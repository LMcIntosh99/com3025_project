{
 "cells": [
  {
   "cell_type": "code",
   "execution_count": 3,
   "id": "2c5750b3",
   "metadata": {},
   "outputs": [],
   "source": [
    "from tensorflow.keras.models import Model\n",
    "from tensorflow.keras.layers import Dropout, LSTM, Dense, Conv1D, MaxPooling1D, Flatten, LeakyReLU, Input, Concatenate\n",
    "from tensorflow import keras\n",
    "import tensorflow as tf\n",
    "import pickle"
   ]
  },
  {
   "cell_type": "code",
   "execution_count": null,
   "id": "f2246ed4",
   "metadata": {},
   "outputs": [],
   "source": [
    "TRAIN_SET = './rep_train_set.pickle'\n",
    "TEST_SET = './rep_test_set.pickle'\n",
    "\n",
    "with open(TEST_SET, 'rb') as file:\n",
    "    test_set = pickle.load(file)\n",
    "    x_test = test_set['x']\n",
    "    y_test = test_set['y']\n",
    "\n",
    "with open(TRAIN_SET, 'rb') as file:\n",
    "    train_set = pickle.load(file)\n",
    "    x_train = train_set['x']\n",
    "    y_train = train_set['y']\n",
    "    \n",
    "x_train = tf.expand_dims(x_train, axis=2)\n",
    "x_test = tf.expand_dims(x_test, axis=2)\n",
    "x_train.shape\n"
   ]
  },
  {
   "cell_type": "code",
   "execution_count": null,
   "id": "183fe444",
   "metadata": {},
   "outputs": [],
   "source": [
    "y_train_cat = tf.keras.utils.to_categorical(y_train)\n",
    "y_test_cat = tf.keras.utils.to_categorical(y_test)\n",
    "print(y_train_cat.shape)"
   ]
  },
  {
   "cell_type": "code",
   "execution_count": 4,
   "id": "4d4619b4",
   "metadata": {},
   "outputs": [],
   "source": [
    "def LSTM(inputs):\n",
    "        x = LSTM(64)(inputs)\n",
    "        x = Dense(128, activation='relu')(x)\n",
    "        x = Dropout(0.3)(x)\n",
    "        x = Dense(1, activation='sigmoid')(x)\n",
    "        return x"
   ]
  },
  {
   "cell_type": "code",
   "execution_count": null,
   "id": "28a655cd",
   "metadata": {},
   "outputs": [],
   "source": [
    "inputs = Input((187, 1))\n",
    "\n",
    "lstm = LSTM(inputs)\n",
    "x = lstm\n",
    "\"\"\"\n",
    "task1 = Dense(1, activation=\"sigmoid\")(x)\n",
    "task2 = Dense(1, activation=\"sigmoid\")(x)\n",
    "task3 = Dense(1, activation=\"sigmoid\")(x)\n",
    "task4 = Dense(1, activation=\"sigmoid\")(x)\n",
    "task5 = Dense(1, activation=\"sigmoid\")(x)\n",
    "task6 = Dense(1, activation=\"sigmoid\")(x)\n",
    "task7 = Dense(1, activation=\"sigmoid\")(x)\n",
    "task8 = Dense(1, activation=\"sigmoid\")(x)\n",
    "        \n",
    "model_lstm = Model(inputs = inputs, outputs = [task1, task2, task3, task4, task5, task6, task7, task8])\n",
    "opt = keras.optimizers.Adam(lr=0.001, beta_1=0.9, beta_2=0.999, epsilon=1e-08, decay=0.0)\n",
    "model_lstm.compile(loss='binary_crossentropy',\n",
    "              optimizer=opt,\n",
    "              metrics=['accuracy'])\n",
    "\"\"\""
   ]
  },
  {
   "cell_type": "code",
   "execution_count": null,
   "id": "f419f973",
   "metadata": {},
   "outputs": [],
   "source": []
  }
 ],
 "metadata": {
  "kernelspec": {
   "display_name": "Python 3",
   "language": "python",
   "name": "python3"
  },
  "language_info": {
   "codemirror_mode": {
    "name": "ipython",
    "version": 3
   },
   "file_extension": ".py",
   "mimetype": "text/x-python",
   "name": "python",
   "nbconvert_exporter": "python",
   "pygments_lexer": "ipython3",
   "version": "3.8.9"
  }
 },
 "nbformat": 4,
 "nbformat_minor": 5
}
