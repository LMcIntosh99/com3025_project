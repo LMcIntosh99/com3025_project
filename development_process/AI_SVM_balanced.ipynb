{
 "cells": [
  {
   "cell_type": "code",
   "execution_count": 2,
   "metadata": {
    "executionInfo": {
     "elapsed": 30546,
     "status": "ok",
     "timestamp": 1617875227162,
     "user": {
      "displayName": "Rina Fumoto",
      "photoUrl": "",
      "userId": "14403772957058618504"
     },
     "user_tz": -60
    },
    "id": "RcF_gAiwwehF"
   },
   "outputs": [],
   "source": [
    "import pandas as pd\n",
    "\n",
    "train = pd.read_csv('mitbih_train.csv', header=None)\n",
    "test = pd.read_csv('mitbih_test.csv', header=None)"
   ]
  },
  {
   "cell_type": "code",
   "execution_count": 3,
   "metadata": {
    "colab": {
     "base_uri": "https://localhost:8080/"
    },
    "executionInfo": {
     "elapsed": 30531,
     "status": "ok",
     "timestamp": 1617875227164,
     "user": {
      "displayName": "Rina Fumoto",
      "photoUrl": "",
      "userId": "14403772957058618504"
     },
     "user_tz": -60
    },
    "id": "MQmPX1e73Gli",
    "outputId": "befa8d75-947a-44cb-b655-ed667bc0a963"
   },
   "outputs": [
    {
     "name": "stdout",
     "output_type": "stream",
     "text": [
      "(87554, 188)\n"
     ]
    }
   ],
   "source": [
    "print(train.shape)"
   ]
  },
  {
   "cell_type": "code",
   "execution_count": 4,
   "metadata": {
    "colab": {
     "base_uri": "https://localhost:8080/"
    },
    "executionInfo": {
     "elapsed": 30523,
     "status": "ok",
     "timestamp": 1617875227166,
     "user": {
      "displayName": "Rina Fumoto",
      "photoUrl": "",
      "userId": "14403772957058618504"
     },
     "user_tz": -60
    },
    "id": "-CL_j7tX2y9s",
    "outputId": "888e12bd-9c67-4ccf-aade-fff90aee9412"
   },
   "outputs": [
    {
     "name": "stdout",
     "output_type": "stream",
     "text": [
      "0    72471\n",
      "4     6431\n",
      "2     5788\n",
      "1     2223\n",
      "3      641\n",
      "Name: 187, dtype: int64\n"
     ]
    }
   ],
   "source": [
    "train[187]=train[187].astype(int)\n",
    "equilibre=train[187].value_counts()\n",
    "print(equilibre)"
   ]
  },
  {
   "cell_type": "code",
   "execution_count": 5,
   "metadata": {
    "executionInfo": {
     "elapsed": 32000,
     "status": "ok",
     "timestamp": 1617875228645,
     "user": {
      "displayName": "Rina Fumoto",
      "photoUrl": "",
      "userId": "14403772957058618504"
     },
     "user_tz": -60
    },
    "id": "5Zo3wMgE2fZz"
   },
   "outputs": [],
   "source": [
    "from sklearn.utils import resample\n",
    "df_1=train[train[187]==1]\n",
    "df_2=train[train[187]==2]\n",
    "df_3=train[train[187]==3]\n",
    "df_4=train[train[187]==4]\n",
    "df_0=(train[train[187]==0]).sample(n=20000,random_state=42)\n",
    "\n",
    "df_1_upsample=resample(df_1,replace=True,n_samples=20000,random_state=123)\n",
    "df_2_upsample=resample(df_2,replace=True,n_samples=20000,random_state=124)\n",
    "df_3_upsample=resample(df_3,replace=True,n_samples=20000,random_state=125)\n",
    "df_4_upsample=resample(df_4,replace=True,n_samples=20000,random_state=126)\n",
    "\n",
    "train=pd.concat([df_0,df_1_upsample,df_2_upsample,df_3_upsample,df_4_upsample])"
   ]
  },
  {
   "cell_type": "code",
   "execution_count": 6,
   "metadata": {
    "colab": {
     "base_uri": "https://localhost:8080/"
    },
    "executionInfo": {
     "elapsed": 31996,
     "status": "ok",
     "timestamp": 1617875228648,
     "user": {
      "displayName": "Rina Fumoto",
      "photoUrl": "",
      "userId": "14403772957058618504"
     },
     "user_tz": -60
    },
    "id": "ZXd80yR83Bo9",
    "outputId": "35bc5390-b627-4239-f0ad-2d55f59f785b"
   },
   "outputs": [
    {
     "name": "stdout",
     "output_type": "stream",
     "text": [
      "4    20000\n",
      "3    20000\n",
      "2    20000\n",
      "1    20000\n",
      "0    20000\n",
      "Name: 187, dtype: int64\n"
     ]
    }
   ],
   "source": [
    "equilibre=train[187].value_counts()\n",
    "print(equilibre)"
   ]
  },
  {
   "cell_type": "code",
   "execution_count": 7,
   "metadata": {
    "colab": {
     "base_uri": "https://localhost:8080/"
    },
    "executionInfo": {
     "elapsed": 31992,
     "status": "ok",
     "timestamp": 1617875228649,
     "user": {
      "displayName": "Rina Fumoto",
      "photoUrl": "",
      "userId": "14403772957058618504"
     },
     "user_tz": -60
    },
    "id": "4Xs5lxgdQvfi",
    "outputId": "a10412f3-c259-45c5-c5c6-27a25d541ecc"
   },
   "outputs": [
    {
     "name": "stdout",
     "output_type": "stream",
     "text": [
      "(100000, 188)\n"
     ]
    }
   ],
   "source": [
    "print(train.shape)"
   ]
  },
  {
   "cell_type": "code",
   "execution_count": 9,
   "metadata": {
    "colab": {
     "base_uri": "https://localhost:8080/"
    },
    "executionInfo": {
     "elapsed": 31987,
     "status": "ok",
     "timestamp": 1617875228652,
     "user": {
      "displayName": "Rina Fumoto",
      "photoUrl": "",
      "userId": "14403772957058618504"
     },
     "user_tz": -60
    },
    "id": "MfltJ2iNT1V4",
    "outputId": "bbe92e6a-b2b5-4143-d236-7a6bae195d03"
   },
   "outputs": [
    {
     "name": "stdout",
     "output_type": "stream",
     "text": [
      "(100000, 187)\n"
     ]
    }
   ],
   "source": [
    "x_train = train.iloc[:,:-1]\n",
    "print(x_train.shape)"
   ]
  },
  {
   "cell_type": "code",
   "execution_count": 10,
   "metadata": {
    "colab": {
     "base_uri": "https://localhost:8080/"
    },
    "executionInfo": {
     "elapsed": 31982,
     "status": "ok",
     "timestamp": 1617875228653,
     "user": {
      "displayName": "Rina Fumoto",
      "photoUrl": "",
      "userId": "14403772957058618504"
     },
     "user_tz": -60
    },
    "id": "BSX-NKJ1SsZ8",
    "outputId": "2a97531f-1f96-49ab-b429-c3906570621d"
   },
   "outputs": [
    {
     "name": "stdout",
     "output_type": "stream",
     "text": [
      "(100000,)\n"
     ]
    }
   ],
   "source": [
    "y_train = train.iloc[:,-1]\n",
    "# print(y_train.tolist())\n",
    "print(y_train.shape)"
   ]
  },
  {
   "cell_type": "code",
   "execution_count": 11,
   "metadata": {
    "colab": {
     "base_uri": "https://localhost:8080/"
    },
    "executionInfo": {
     "elapsed": 767854,
     "status": "ok",
     "timestamp": 1617875964531,
     "user": {
      "displayName": "Rina Fumoto",
      "photoUrl": "",
      "userId": "14403772957058618504"
     },
     "user_tz": -60
    },
    "id": "FD7oGZXZTQsQ",
    "outputId": "d8f369cf-ba54-43f7-a976-f23a1bfd610e"
   },
   "outputs": [
    {
     "data": {
      "text/plain": [
       "SVC(C=1.0, break_ties=False, cache_size=200, class_weight=None, coef0=0.0,\n",
       "    decision_function_shape='ovr', degree=3, gamma='scale', kernel='rbf',\n",
       "    max_iter=-1, probability=False, random_state=None, shrinking=True,\n",
       "    tol=0.001, verbose=False)"
      ]
     },
     "execution_count": 11,
     "metadata": {
      "tags": []
     },
     "output_type": "execute_result"
    }
   ],
   "source": [
    "from sklearn import svm\n",
    "clf = svm.SVC()\n",
    "clf.fit(x_train, y_train)"
   ]
  },
  {
   "cell_type": "code",
   "execution_count": 14,
   "metadata": {
    "colab": {
     "base_uri": "https://localhost:8080/"
    },
    "executionInfo": {
     "elapsed": 768460,
     "status": "ok",
     "timestamp": 1617875965152,
     "user": {
      "displayName": "Rina Fumoto",
      "photoUrl": "",
      "userId": "14403772957058618504"
     },
     "user_tz": -60
    },
    "id": "YxotVqvFWSVt",
    "outputId": "be75a768-e802-42b4-f307-ab58518c24af"
   },
   "outputs": [
    {
     "name": "stdout",
     "output_type": "stream",
     "text": [
      "(21892, 188)\n"
     ]
    }
   ],
   "source": [
    "# test = test.sample(100)\n",
    "print(test.shape)"
   ]
  },
  {
   "cell_type": "code",
   "execution_count": 15,
   "metadata": {
    "colab": {
     "base_uri": "https://localhost:8080/"
    },
    "executionInfo": {
     "elapsed": 768456,
     "status": "ok",
     "timestamp": 1617875965153,
     "user": {
      "displayName": "Rina Fumoto",
      "photoUrl": "",
      "userId": "14403772957058618504"
     },
     "user_tz": -60
    },
    "id": "4zIe7RPxWgVP",
    "outputId": "df14e319-c9bb-4b1a-b9cb-edde7b95defb"
   },
   "outputs": [
    {
     "name": "stdout",
     "output_type": "stream",
     "text": [
      "(21892, 187)\n",
      "(21892,)\n"
     ]
    }
   ],
   "source": [
    "x_test = test.iloc[:,:-1]\n",
    "print(x_test.shape)\n",
    "y_test = test.iloc[:,-1]\n",
    "print(y_test.shape)"
   ]
  },
  {
   "cell_type": "code",
   "execution_count": 16,
   "metadata": {
    "executionInfo": {
     "elapsed": 976119,
     "status": "ok",
     "timestamp": 1617876172818,
     "user": {
      "displayName": "Rina Fumoto",
      "photoUrl": "",
      "userId": "14403772957058618504"
     },
     "user_tz": -60
    },
    "id": "02koMGq9Wtzr"
   },
   "outputs": [],
   "source": [
    "y_pred = clf.predict(x_test)\n",
    "# print(y_pred)\n",
    "# print(y_test.tolist())"
   ]
  },
  {
   "cell_type": "code",
   "execution_count": 17,
   "metadata": {
    "colab": {
     "base_uri": "https://localhost:8080/"
    },
    "executionInfo": {
     "elapsed": 976117,
     "status": "ok",
     "timestamp": 1617876172821,
     "user": {
      "displayName": "Rina Fumoto",
      "photoUrl": "",
      "userId": "14403772957058618504"
     },
     "user_tz": -60
    },
    "id": "VnKrPD1mW23D",
    "outputId": "cf4f0875-63a4-4ffc-8b99-654c15b1fcb5"
   },
   "outputs": [
    {
     "data": {
      "text/plain": [
       "0.9066325598392106"
      ]
     },
     "execution_count": 17,
     "metadata": {
      "tags": []
     },
     "output_type": "execute_result"
    }
   ],
   "source": [
    "from sklearn.metrics import accuracy_score\n",
    "accuracy_score(y_test, y_pred)"
   ]
  }
 ],
 "metadata": {
  "colab": {
   "authorship_tag": "ABX9TyPznFKnpC+VwZsWOzx3MTtZ",
   "collapsed_sections": [],
   "name": "AI_SVM_balanced.ipynb",
   "provenance": [
    {
     "file_id": "11nWueWS0i5o7hYCp4IAmZDPWsDzJscBG",
     "timestamp": 1617875071932
    }
   ]
  },
  "kernelspec": {
   "display_name": "Python 3",
   "language": "python",
   "name": "python3"
  },
  "language_info": {
   "codemirror_mode": {
    "name": "ipython",
    "version": 3
   },
   "file_extension": ".py",
   "mimetype": "text/x-python",
   "name": "python",
   "nbconvert_exporter": "python",
   "pygments_lexer": "ipython3",
   "version": "3.8.5"
  }
 },
 "nbformat": 4,
 "nbformat_minor": 1
}
