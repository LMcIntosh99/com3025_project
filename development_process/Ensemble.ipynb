{
 "cells": [
  {
   "cell_type": "code",
   "execution_count": 88,
   "id": "43c64b13",
   "metadata": {},
   "outputs": [],
   "source": [
    "from tensorflow.keras.models import Model\n",
    "from tensorflow.keras.layers import Dropout, LSTM, Dense, Conv1D, MaxPooling1D, Flatten, LeakyReLU, Input, Concatenate, Average\n",
    "from tensorflow import keras\n",
    "import tensorflow as tf\n",
    "import pickle\n",
    "import matplotlib.pyplot as plt\n",
    "from sklearn import metrics\n",
    "import numpy as np\n",
    "import pandas as pd"
   ]
  },
  {
   "cell_type": "code",
   "execution_count": 89,
   "id": "f238c7ac",
   "metadata": {},
   "outputs": [
    {
     "data": {
      "text/plain": [
       "TensorShape([13097, 187, 1])"
      ]
     },
     "execution_count": 89,
     "metadata": {},
     "output_type": "execute_result"
    }
   ],
   "source": [
    "TRAIN_SET = './ptb_train_set.pickle'\n",
    "TEST_SET = './ptb_test_set.pickle'\n",
    "\n",
    "with open(TEST_SET, 'rb') as file:\n",
    "    test_set = pickle.load(file)\n",
    "    x_test = test_set['x']\n",
    "    y_test = test_set['y']\n",
    "\n",
    "with open(TRAIN_SET, 'rb') as file:\n",
    "    train_set = pickle.load(file)\n",
    "    x_train = train_set['x']\n",
    "    y_train = train_set['y']\n",
    "    \n",
    "x_train = tf.expand_dims(x_train, axis=2)\n",
    "x_test = tf.expand_dims(x_test, axis=2)\n",
    "x_train.shape"
   ]
  },
  {
   "cell_type": "code",
   "execution_count": 90,
   "id": "6d334dd2",
   "metadata": {},
   "outputs": [],
   "source": [
    "class EnsembleModel():\n",
    "    def CNN(self, inputs):\n",
    "        x = Conv1D(5, kernel_size=3, strides=1)(inputs)\n",
    "        x = LeakyReLU()(x)\n",
    "        x = MaxPooling1D(pool_size=2, strides=2)(x)\n",
    "        x = Conv1D(10, kernel_size=4, strides=1)(x)\n",
    "        x = LeakyReLU()(x)\n",
    "        x = MaxPooling1D(pool_size=2, strides=2)(x)\n",
    "        x = Conv1D(20, kernel_size=4, strides=1)(x)\n",
    "        x = LeakyReLU()(x)\n",
    "        x = MaxPooling1D(pool_size=2, strides=2)(x)\n",
    "        x = Flatten()(x)\n",
    "        x = Dense(30)(x)\n",
    "        x = LeakyReLU()(x)\n",
    "        x = Dense(20)(x)\n",
    "        x = LeakyReLU()(x)\n",
    "        x = Dense(1, activation=\"sigmoid\")(x)\n",
    "        return x\n",
    "    \n",
    "    def LSTM(self, inputs):\n",
    "        x = LSTM(64)(inputs)\n",
    "        x = Dense(128, activation='relu')(x)\n",
    "        x = Dropout(0.3)(x)\n",
    "        x = Dense(1, activation='sigmoid')(x)\n",
    "        return x\n",
    "    \n",
    "    def MLP(self, inputs):\n",
    "        x = Dense(5)(inputs)\n",
    "        x = Dense(64, activation='relu')(x)\n",
    "        x = Dense(128, activation='relu')(x)\n",
    "        x = Dense(128, activation='relu')(x)\n",
    "        x = Dense(128, activation='relu')(x)\n",
    "        x = Dropout(0.2)(x)\n",
    "        x = Dense(64, activation='relu')(x)\n",
    "        x = Flatten()(x)\n",
    "        x = Dense(1, activation=\"sigmoid\")(x)\n",
    "        return x\n",
    "\n",
    "    def assemble(self, input_shape):\n",
    "        inputs = Input(shape=input_shape)\n",
    "        cnn = self.CNN(inputs)\n",
    "        lstm = self.LSTM(inputs)\n",
    "        mlp = self.MLP(inputs)\n",
    "        #x = Concatenate(axis=1)([cnn, lstm, mlp])\n",
    "        y = Average()([cnn, lstm, mlp])\n",
    "        #y = Dense(1, activation=\"sigmoid\")(x)\n",
    "\n",
    "        model = Model(inputs = inputs, outputs = y)\n",
    "        #model.trainable = False\n",
    "        return model"
   ]
  },
  {
   "cell_type": "code",
   "execution_count": 91,
   "id": "45a77f98",
   "metadata": {},
   "outputs": [],
   "source": [
    "LSTM = keras.models.load_model('LSTM_PTB')\n",
    "CNN = keras.models.load_model('CNN_PTB')\n",
    "MLP = keras.models.load_model('MLP_PTB')\n",
    "\n",
    "inputs = Input(shape=x_train.shape[1:])\n",
    "cnn = CNN(inputs)\n",
    "lstm = LSTM(inputs)\n",
    "mlp = MLP(inputs)\n",
    "\n",
    "y = Average()([cnn, lstm, mlp])\n",
    "\n",
    "\n",
    "model = Model(inputs = inputs, outputs = y)"
   ]
  },
  {
   "cell_type": "code",
   "execution_count": 92,
   "id": "bb9df1ee",
   "metadata": {},
   "outputs": [
    {
     "name": "stdout",
     "output_type": "stream",
     "text": [
      "Model: \"model_15\"\n",
      "__________________________________________________________________________________________________\n",
      "Layer (type)                    Output Shape         Param #     Connected to                     \n",
      "==================================================================================================\n",
      "input_25 (InputLayer)           [(None, 187, 1)]     0                                            \n",
      "__________________________________________________________________________________________________\n",
      "sequential_5 (Sequential)       (None, 1)            13721       input_25[0][0]                   \n",
      "__________________________________________________________________________________________________\n",
      "sequential_2 (Sequential)       (None, 1)            25345       input_25[0][0]                   \n",
      "__________________________________________________________________________________________________\n",
      "sequential_6 (Sequential)       (None, 1)            61963       input_25[0][0]                   \n",
      "__________________________________________________________________________________________________\n",
      "average_7 (Average)             (None, 1)            0           sequential_5[0][0]               \n",
      "                                                                 sequential_2[0][0]               \n",
      "                                                                 sequential_6[0][0]               \n",
      "==================================================================================================\n",
      "Total params: 101,029\n",
      "Trainable params: 101,029\n",
      "Non-trainable params: 0\n",
      "__________________________________________________________________________________________________\n"
     ]
    }
   ],
   "source": [
    "#model = EnsembleModel().assemble(x_train.shape[1:])\n",
    "model.summary()"
   ]
  },
  {
   "cell_type": "code",
   "execution_count": 93,
   "id": "cd0ee9f4",
   "metadata": {},
   "outputs": [],
   "source": [
    "opt = keras.optimizers.Adam(lr=0.001, beta_1=0.9, beta_2=0.999, epsilon=1e-08, decay=0.0)\n",
    "model.compile(loss='binary_crossentropy',\n",
    "              optimizer=opt,\n",
    "              metrics=['accuracy'])"
   ]
  },
  {
   "cell_type": "code",
   "execution_count": 94,
   "id": "9c9fdebd",
   "metadata": {},
   "outputs": [
    {
     "name": "stdout",
     "output_type": "stream",
     "text": [
      "Epoch 1/20\n",
      "103/103 [==============================] - 25s 213ms/step - loss: 0.2279 - accuracy: 0.9449 - val_loss: 0.2609 - val_accuracy: 0.9093\n",
      "Epoch 2/20\n",
      "103/103 [==============================] - 21s 202ms/step - loss: 0.2070 - accuracy: 0.9455 - val_loss: 0.2207 - val_accuracy: 0.9395\n",
      "Epoch 3/20\n",
      "103/103 [==============================] - 21s 205ms/step - loss: 0.2008 - accuracy: 0.9483 - val_loss: 0.2129 - val_accuracy: 0.9512\n",
      "Epoch 4/20\n",
      "103/103 [==============================] - 21s 205ms/step - loss: 0.1932 - accuracy: 0.9493 - val_loss: 0.2214 - val_accuracy: 0.9299\n",
      "Epoch 5/20\n",
      "103/103 [==============================] - 22s 210ms/step - loss: 0.1965 - accuracy: 0.9497 - val_loss: 0.2266 - val_accuracy: 0.9347\n",
      "Epoch 6/20\n",
      "103/103 [==============================] - 22s 215ms/step - loss: 0.1921 - accuracy: 0.9497 - val_loss: 0.2358 - val_accuracy: 0.9196\n",
      "Epoch 7/20\n",
      "103/103 [==============================] - 22s 215ms/step - loss: 0.1911 - accuracy: 0.9470 - val_loss: 0.2144 - val_accuracy: 0.9519\n",
      "Epoch 8/20\n",
      "103/103 [==============================] - 25s 243ms/step - loss: 0.1898 - accuracy: 0.9561 - val_loss: 0.2113 - val_accuracy: 0.9409\n",
      "Epoch 9/20\n",
      "103/103 [==============================] - 26s 251ms/step - loss: 0.1835 - accuracy: 0.9528 - val_loss: 0.2114 - val_accuracy: 0.9381\n",
      "Epoch 10/20\n",
      "103/103 [==============================] - 23s 228ms/step - loss: 0.1813 - accuracy: 0.9562 - val_loss: 0.2199 - val_accuracy: 0.9423\n",
      "Epoch 11/20\n",
      "103/103 [==============================] - 25s 244ms/step - loss: 0.1989 - accuracy: 0.9474 - val_loss: 0.2081 - val_accuracy: 0.9436\n",
      "Epoch 12/20\n",
      "103/103 [==============================] - 24s 229ms/step - loss: 0.1769 - accuracy: 0.9576 - val_loss: 0.2462 - val_accuracy: 0.9127\n",
      "Epoch 13/20\n",
      "103/103 [==============================] - 25s 241ms/step - loss: 0.1816 - accuracy: 0.9532 - val_loss: 0.2183 - val_accuracy: 0.9450\n",
      "Epoch 14/20\n",
      "103/103 [==============================] - 24s 236ms/step - loss: 0.1853 - accuracy: 0.9545 - val_loss: 0.2158 - val_accuracy: 0.9326\n",
      "Epoch 15/20\n",
      "103/103 [==============================] - 23s 226ms/step - loss: 0.1823 - accuracy: 0.9546 - val_loss: 0.2254 - val_accuracy: 0.9519\n",
      "Epoch 16/20\n",
      "103/103 [==============================] - 23s 228ms/step - loss: 0.1835 - accuracy: 0.9587 - val_loss: 0.2027 - val_accuracy: 0.9450\n",
      "Epoch 17/20\n",
      "103/103 [==============================] - 24s 232ms/step - loss: 0.1795 - accuracy: 0.9566 - val_loss: 0.2043 - val_accuracy: 0.9498\n",
      "Epoch 18/20\n",
      "103/103 [==============================] - 24s 230ms/step - loss: 0.1794 - accuracy: 0.9546 - val_loss: 0.2057 - val_accuracy: 0.9464\n",
      "Epoch 19/20\n",
      "103/103 [==============================] - 23s 226ms/step - loss: 0.1725 - accuracy: 0.9607 - val_loss: 0.2088 - val_accuracy: 0.9464\n",
      "Epoch 20/20\n",
      "103/103 [==============================] - 23s 225ms/step - loss: 0.1694 - accuracy: 0.9635 - val_loss: 0.2422 - val_accuracy: 0.9230\n"
     ]
    }
   ],
   "source": [
    "history = model.fit(x_train, y_train,\n",
    "              batch_size=128,\n",
    "              epochs=20,\n",
    "              validation_data=(x_test, y_test),\n",
    "              shuffle=True)"
   ]
  },
  {
   "cell_type": "code",
   "execution_count": 95,
   "id": "2f22461c",
   "metadata": {},
   "outputs": [
    {
     "data": {
      "image/png": "[encoded data removed]",
      "text/plain": [
       "<Figure size 432x288 with 1 Axes>"
      ]
     },
     "metadata": {
      "needs_background": "light"
     },
     "output_type": "display_data"
    },
    {
     "data": {
      "image/png": "[encoded data removed]",
      "text/plain": [
       "<Figure size 432x288 with 1 Axes>"
      ]
     },
     "metadata": {
      "needs_background": "light"
     },
     "output_type": "display_data"
    }
   ],
   "source": [
    "fig1, ax_acc = plt.subplots()\n",
    "plt.plot(history.history['accuracy'])\n",
    "plt.plot(history.history['val_accuracy'])\n",
    "plt.xlabel('Epoch')\n",
    "plt.ylabel('Accuracy')\n",
    "plt.title('Model Accuracy')\n",
    "plt.legend(['Training', 'Validation'], loc='lower right')\n",
    "plt.show()\n",
    "\n",
    "fig2, ax_loss = plt.subplots()\n",
    "plt.xlabel('Epoch')\n",
    "plt.ylabel('Loss')\n",
    "plt.title('Model Loss')\n",
    "plt.plot(history.history['loss'])\n",
    "plt.plot(history.history['val_loss'])\n",
    "plt.legend(['Training', 'Validation'], loc='upper right')\n",
    "\n",
    "\n",
    "plt.show()\n"
   ]
  },
  {
   "cell_type": "code",
   "execution_count": null,
   "id": "2f7cca85",
   "metadata": {},
   "outputs": [],
   "source": []
  }
 ],
 "metadata": {
  "kernelspec": {
   "display_name": "Python 3",
   "language": "python",
   "name": "python3"
  },
  "language_info": {
   "codemirror_mode": {
    "name": "ipython",
    "version": 3
   },
   "file_extension": ".py",
   "mimetype": "text/x-python",
   "name": "python",
   "nbconvert_exporter": "python",
   "pygments_lexer": "ipython3",
   "version": "3.8.10"
  }
 },
 "nbformat": 4,
 "nbformat_minor": 5
}
