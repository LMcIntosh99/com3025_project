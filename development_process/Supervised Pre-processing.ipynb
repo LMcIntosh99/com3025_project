{
 "cells": [
  {
   "cell_type": "code",
   "execution_count": 11,
   "id": "a6e5e6f6",
   "metadata": {},
   "outputs": [],
   "source": [
    "import pandas as pd\n",
    "import matplotlib.pyplot as plt\n",
    "from tensorflow import keras\n",
    "import numpy as np\n",
    "import pickle\n",
    "from sklearn.utils import resample"
   ]
  },
  {
   "cell_type": "code",
   "execution_count": 12,
   "id": "fc575196",
   "metadata": {},
   "outputs": [],
   "source": [
    "train_df = pd.read_csv('data/mitbih_train.csv', header=None)\n",
    "test_df = pd.read_csv('data/mitbih_test.csv', header=None)\n",
    "\n",
    "PTB_n = pd.read_csv('data/ptbdb_normal.csv', header=None)\n",
    "PTB_a = pd.read_csv('data/ptbdb_abnormal.csv', header=None)"
   ]
  },
  {
   "cell_type": "code",
   "execution_count": 13,
   "id": "e94396ac",
   "metadata": {},
   "outputs": [],
   "source": [
    "ptb_raw = pd.concat([PTB_n, PTB_a], axis=0).sample(frac=1, axis=0)\n"
   ]
  },
  {
   "cell_type": "code",
   "execution_count": 14,
   "id": "71f9b28d",
   "metadata": {},
   "outputs": [],
   "source": [
    "df_1 = train_df[train_df[187] == 1]\n",
    "df_2 = train_df[train_df[187] == 2]\n",
    "df_3 = train_df[train_df[187] == 3]\n",
    "df_4 = train_df[train_df[187] == 4]\n",
    "df_0 = (train_df[train_df[187] == 0]).sample(n=20000, random_state=42)\n",
    "\n",
    "df_1_upsample = resample(df_1, replace=True, n_samples=20000, random_state=123)\n",
    "df_2_upsample = resample(df_2, replace=True, n_samples=20000, random_state=124)\n",
    "df_3_upsample = resample(df_3, replace=True, n_samples=20000, random_state=125)\n",
    "df_4_upsample = resample(df_4, replace=True, n_samples=20000, random_state=126)\n",
    "\n",
    "train_df = pd.concat([df_0, df_1_upsample, df_2_upsample, df_3_upsample, df_4_upsample])"
   ]
  },
  {
   "cell_type": "code",
   "execution_count": 15,
   "id": "93ad8e56",
   "metadata": {},
   "outputs": [],
   "source": [
    "shuffled_train = train_df.sample(frac=1, axis=0).values\n",
    "\n",
    "x_train_MIT = shuffled_train[:, :-1]\n",
    "y_train_MIT = shuffled_train[:, 187].astype(int)\n",
    "\n",
    "\n",
    "shuffled_test = test_df.sample(frac=1, axis=0).values\n",
    "\n",
    "x_test_MIT = shuffled_test[:, :-1]\n",
    "y_test_MIT = shuffled_test[:, 187].astype(int)"
   ]
  },
  {
   "cell_type": "code",
   "execution_count": 16,
   "id": "e33e1b23",
   "metadata": {},
   "outputs": [],
   "source": [
    "TRAIN_SET_MIT = './MIT_train_set.pickle'\n",
    "TEST_SET_MIT = './MIT_test_set.pickle'\n",
    "\n",
    "with open(TRAIN_SET_MIT, 'wb') as file:\n",
    "    pickle.dump({'x': x_train_MIT, 'y': y_train_MIT}, file)\n",
    "\n",
    "with open(TEST_SET_MIT, 'wb') as file:\n",
    "    pickle.dump({'x': x_test_MIT, 'y': y_test_MIT}, file)"
   ]
  },
  {
   "cell_type": "code",
   "execution_count": 17,
   "id": "4b3dced9",
   "metadata": {},
   "outputs": [],
   "source": [
    "test_df_PTB = ptb_raw[0:len(ptb_raw)//10]\n",
    "train_df_PTB = ptb_raw[len(ptb_raw)//10:]"
   ]
  },
  {
   "cell_type": "code",
   "execution_count": 18,
   "id": "0aff7e21",
   "metadata": {},
   "outputs": [
    {
     "data": {
      "text/plain": [
       "'\\ndf_1 = (train_df_PTB[train_df_PTB[187] == 1]).sample(n=10000, random_state=42)\\ndf_0 = train_df_PTB[train_df_PTB[187] == 0]\\ndf_0_upsample = resample(df_0, replace=True, n_samples=10000, random_state=123)\\ntrain_df = pd.concat([df_1, df_0_upsample])\\n'"
      ]
     },
     "execution_count": 18,
     "metadata": {},
     "output_type": "execute_result"
    }
   ],
   "source": [
    "\"\"\"\n",
    "df_1 = (train_df_PTB[train_df_PTB[187] == 1]).sample(n=10000, random_state=42)\n",
    "df_0 = train_df_PTB[train_df_PTB[187] == 0]\n",
    "df_0_upsample = resample(df_0, replace=True, n_samples=10000, random_state=123)\n",
    "train_df = pd.concat([df_1, df_0_upsample])\n",
    "\"\"\""
   ]
  },
  {
   "cell_type": "code",
   "execution_count": 19,
   "id": "72f45ffe",
   "metadata": {},
   "outputs": [],
   "source": [
    "shuffled_train = train_df_PTB.sample(frac=1, axis=0).values\n",
    "\n",
    "x_train_PTB = shuffled_train[:, :-1]\n",
    "y_train_PTB = shuffled_train[:, 187].astype(int)\n",
    "\n",
    "\n",
    "shuffled_test = test_df_PTB.sample(frac=1, axis=0).values\n",
    "\n",
    "x_test_PTB = shuffled_test[:, :-1]\n",
    "y_test_PTB = shuffled_test[:, 187].astype(int)"
   ]
  },
  {
   "cell_type": "code",
   "execution_count": 20,
   "id": "cea1d465",
   "metadata": {},
   "outputs": [],
   "source": [
    "TRAIN_SET_PTB = './PTB_train_set.pickle'\n",
    "TEST_SET_PTB = './PTB_test_set.pickle'\n",
    "\n",
    "with open(TRAIN_SET_PTB, 'wb') as file:\n",
    "    pickle.dump({'x': x_train_PTB, 'y': y_train_PTB}, file)\n",
    "\n",
    "with open(TEST_SET_PTB, 'wb') as file:\n",
    "    pickle.dump({'x': x_test_PTB, 'y': y_test_PTB}, file)"
   ]
  }
 ],
 "metadata": {
  "kernelspec": {
   "display_name": "Python 3",
   "language": "python",
   "name": "python3"
  },
  "language_info": {
   "codemirror_mode": {
    "name": "ipython",
    "version": 3
   },
   "file_extension": ".py",
   "mimetype": "text/x-python",
   "name": "python",
   "nbconvert_exporter": "python",
   "pygments_lexer": "ipython3",
   "version": "3.8.10"
  }
 },
 "nbformat": 4,
 "nbformat_minor": 5
}
