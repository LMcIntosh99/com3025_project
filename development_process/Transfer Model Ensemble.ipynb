{
 "cells": [
  {
   "cell_type": "code",
   "execution_count": 21,
   "id": "2d51a643",
   "metadata": {},
   "outputs": [],
   "source": [
    "from tensorflow.keras.models import Model\n",
    "from tensorflow.keras.layers import Dropout, Dense, Conv1D, MaxPooling1D, Flatten, LeakyReLU, Input, Concatenate, Average\n",
    "from tensorflow import keras\n",
    "import tensorflow as tf\n",
    "import pickle\n",
    "import seaborn as sn\n",
    "import matplotlib.pyplot as plt\n",
    "from sklearn import metrics\n",
    "import numpy as np\n",
    "import pandas as pd"
   ]
  },
  {
   "cell_type": "code",
   "execution_count": 22,
   "id": "d418350c",
   "metadata": {},
   "outputs": [
    {
     "data": {
      "text/plain": [
       "TensorShape([13097, 187, 1])"
      ]
     },
     "execution_count": 22,
     "metadata": {},
     "output_type": "execute_result"
    }
   ],
   "source": [
    "TRAIN_SET = './ptb_train_set.pickle'\n",
    "TEST_SET = './ptb_test_set.pickle'\n",
    "\n",
    "with open(TEST_SET, 'rb') as file:\n",
    "    test_set = pickle.load(file)\n",
    "    x_test = test_set['x']\n",
    "    y_test = test_set['y']\n",
    "\n",
    "with open(TRAIN_SET, 'rb') as file:\n",
    "    train_set = pickle.load(file)\n",
    "    x_train = train_set['x']\n",
    "    y_train = train_set['y']\n",
    "    \n",
    "x_train = tf.expand_dims(x_train, axis=2)\n",
    "x_test = tf.expand_dims(x_test, axis=2)\n",
    "x_train.shape"
   ]
  },
  {
   "cell_type": "code",
   "execution_count": 25,
   "id": "674f4732",
   "metadata": {},
   "outputs": [],
   "source": [
    "CNN  = keras.models.load_model('CNN_REP_PTB')\n",
    "LSTM = keras.models.load_model('LSTM_REP_PTB')\n",
    "MLP  = keras.models.load_model('MLP_REP_PTB')"
   ]
  },
  {
   "cell_type": "code",
   "execution_count": 26,
   "id": "c3451dce",
   "metadata": {},
   "outputs": [],
   "source": [
    "inputs = Input(shape=x_train.shape[1:])\n",
    "cnn = CNN(inputs)\n",
    "lstm = LSTM(inputs)\n",
    "mlp = MLP(inputs)\n",
    "\n",
    "y = Average()([cnn, lstm, mlp])\n",
    "\n",
    "\n",
    "model = Model(inputs = inputs, outputs = y)"
   ]
  },
  {
   "cell_type": "code",
   "execution_count": 27,
   "id": "d7b165c3",
   "metadata": {},
   "outputs": [],
   "source": [
    "opt = keras.optimizers.Adam(lr=0.001, beta_1=0.9, beta_2=0.999, epsilon=1e-08, decay=0.0)\n",
    "model.compile(loss='binary_crossentropy',\n",
    "              optimizer=opt,\n",
    "              metrics=['accuracy'])"
   ]
  },
  {
   "cell_type": "code",
   "execution_count": 28,
   "id": "19799ed5",
   "metadata": {},
   "outputs": [
    {
     "name": "stdout",
     "output_type": "stream",
     "text": [
      "Epoch 1/20\n",
      "205/205 [==============================] - 22s 94ms/step - loss: 0.0928 - accuracy: 0.9775 - val_loss: 0.1088 - val_accuracy: 0.9629\n",
      "Epoch 2/20\n",
      "205/205 [==============================] - 19s 94ms/step - loss: 0.0792 - accuracy: 0.9771 - val_loss: 0.0965 - val_accuracy: 0.9656\n",
      "Epoch 3/20\n",
      "205/205 [==============================] - 19s 94ms/step - loss: 0.0786 - accuracy: 0.9766 - val_loss: 0.0869 - val_accuracy: 0.9732\n",
      "Epoch 4/20\n",
      "205/205 [==============================] - 20s 97ms/step - loss: 0.0696 - accuracy: 0.9815 - val_loss: 0.0931 - val_accuracy: 0.9698\n",
      "Epoch 5/20\n",
      "205/205 [==============================] - 19s 93ms/step - loss: 0.0805 - accuracy: 0.9760 - val_loss: 0.1175 - val_accuracy: 0.9533\n",
      "Epoch 6/20\n",
      "205/205 [==============================] - 19s 94ms/step - loss: 0.0732 - accuracy: 0.9782 - val_loss: 0.0984 - val_accuracy: 0.9636\n",
      "Epoch 7/20\n",
      "205/205 [==============================] - 19s 94ms/step - loss: 0.0740 - accuracy: 0.9783 - val_loss: 0.0899 - val_accuracy: 0.9663\n",
      "Epoch 8/20\n",
      "205/205 [==============================] - 19s 93ms/step - loss: 0.0727 - accuracy: 0.9792 - val_loss: 0.0887 - val_accuracy: 0.9704\n",
      "Epoch 9/20\n",
      "205/205 [==============================] - 24s 116ms/step - loss: 0.0684 - accuracy: 0.9799 - val_loss: 0.0859 - val_accuracy: 0.9718\n",
      "Epoch 10/20\n",
      "205/205 [==============================] - 24s 116ms/step - loss: 0.0629 - accuracy: 0.9819 - val_loss: 0.0783 - val_accuracy: 0.9711\n",
      "Epoch 11/20\n",
      "205/205 [==============================] - 21s 101ms/step - loss: 0.0618 - accuracy: 0.9817 - val_loss: 0.1400 - val_accuracy: 0.9416\n",
      "Epoch 12/20\n",
      "205/205 [==============================] - 20s 100ms/step - loss: 0.0846 - accuracy: 0.9711 - val_loss: 0.0902 - val_accuracy: 0.9684\n",
      "Epoch 13/20\n",
      "205/205 [==============================] - 20s 98ms/step - loss: 0.0740 - accuracy: 0.9712 - val_loss: 0.0890 - val_accuracy: 0.9643\n",
      "Epoch 14/20\n",
      "205/205 [==============================] - 20s 98ms/step - loss: 0.0675 - accuracy: 0.9765 - val_loss: 0.0836 - val_accuracy: 0.9629\n",
      "Epoch 15/20\n",
      "205/205 [==============================] - 20s 100ms/step - loss: 0.0629 - accuracy: 0.9831 - val_loss: 0.0895 - val_accuracy: 0.9684\n",
      "Epoch 16/20\n",
      "205/205 [==============================] - 22s 105ms/step - loss: 0.0586 - accuracy: 0.9828 - val_loss: 0.0949 - val_accuracy: 0.9691\n",
      "Epoch 17/20\n",
      "205/205 [==============================] - 24s 118ms/step - loss: 0.0663 - accuracy: 0.9812 - val_loss: 0.0770 - val_accuracy: 0.9711\n",
      "Epoch 18/20\n",
      "205/205 [==============================] - 22s 109ms/step - loss: 0.0614 - accuracy: 0.9836 - val_loss: 0.0828 - val_accuracy: 0.9691\n",
      "Epoch 19/20\n",
      "205/205 [==============================] - 22s 108ms/step - loss: 0.0667 - accuracy: 0.9837 - val_loss: 0.0716 - val_accuracy: 0.9814\n",
      "Epoch 20/20\n",
      "205/205 [==============================] - 22s 108ms/step - loss: 0.0599 - accuracy: 0.9839 - val_loss: 0.0936 - val_accuracy: 0.9656\n"
     ]
    }
   ],
   "source": [
    "history = model.fit(x_train, y_train,\n",
    "              batch_size=64,\n",
    "              epochs=20,\n",
    "              validation_data=(x_test, y_test),\n",
    "              shuffle=True)"
   ]
  }
 ],
 "metadata": {
  "kernelspec": {
   "display_name": "Python 3",
   "language": "python",
   "name": "python3"
  },
  "language_info": {
   "codemirror_mode": {
    "name": "ipython",
    "version": 3
   },
   "file_extension": ".py",
   "mimetype": "text/x-python",
   "name": "python",
   "nbconvert_exporter": "python",
   "pygments_lexer": "ipython3",
   "version": "3.8.10"
  }
 },
 "nbformat": 4,
 "nbformat_minor": 5
}
