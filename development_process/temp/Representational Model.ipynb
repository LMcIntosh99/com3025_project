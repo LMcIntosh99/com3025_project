{
 "cells": [
  {
   "cell_type": "code",
   "execution_count": 5,
   "metadata": {
    "id": "449xx48yL3zI"
   },
   "outputs": [],
   "source": [
    "from tensorflow.keras.models import Model\n",
    "from tensorflow.keras.layers import Dropout, LSTM, Dense, Conv1D, MaxPooling1D, Flatten, LeakyReLU, Input, Concatenate\n",
    "from tensorflow import keras\n",
    "import tensorflow as tf\n",
    "import pickle"
   ]
  },
  {
   "cell_type": "code",
   "execution_count": 6,
   "metadata": {},
   "outputs": [
    {
     "data": {
      "text/plain": [
       "TensorShape([700432, 187, 1])"
      ]
     },
     "execution_count": 6,
     "metadata": {},
     "output_type": "execute_result"
    }
   ],
   "source": [
    "TRAIN_SET = './rep_train_set.pickle'\n",
    "TEST_SET = './rep_test_set.pickle'\n",
    "\n",
    "with open(TEST_SET, 'rb') as file:\n",
    "    test_set = pickle.load(file)\n",
    "    x_test = test_set['x']\n",
    "    y_test = test_set['y']\n",
    "\n",
    "with open(TRAIN_SET, 'rb') as file:\n",
    "    train_set = pickle.load(file)\n",
    "    x_train = train_set['x']\n",
    "    y_train = train_set['y']\n",
    "    \n",
    "x_train = tf.expand_dims(x_train, axis=2)\n",
    "x_test = tf.expand_dims(x_test, axis=2)\n",
    "x_train.shape"
   ]
  },
  {
   "cell_type": "code",
   "execution_count": 7,
   "metadata": {},
   "outputs": [
    {
     "name": "stdout",
     "output_type": "stream",
     "text": [
      "(700432, 8)\n"
     ]
    }
   ],
   "source": [
    "y_train_cat = tf.keras.utils.to_categorical(y_train)\n",
    "y_test_cat = tf.keras.utils.to_categorical(y_test)\n",
    "print(y_train_cat.shape)"
   ]
  },
  {
   "cell_type": "code",
   "execution_count": 8,
   "metadata": {},
   "outputs": [
    {
     "name": "stdout",
     "output_type": "stream",
     "text": [
      "(187, 1)\n"
     ]
    }
   ],
   "source": [
    "print(x_train.shape[1:])"
   ]
  },
  {
   "cell_type": "code",
   "execution_count": 29,
   "metadata": {},
   "outputs": [],
   "source": [
    "class SelfSupervisedModel():\n",
    "    def CNN(self, inputs):\n",
    "        x = Conv1D(5, kernel_size=3, strides=1)(inputs)\n",
    "        x = LeakyReLU()(x)\n",
    "        x = MaxPooling1D(pool_size=2, strides=2)(x)\n",
    "        x = Conv1D(10, kernel_size=4, strides=1)(x)\n",
    "        x = LeakyReLU()(x)\n",
    "        x = MaxPooling1D(pool_size=2, strides=2)(x)\n",
    "        x = Conv1D(20, kernel_size=4, strides=1)(x)\n",
    "        x = LeakyReLU()(x)\n",
    "        x = MaxPooling1D(pool_size=2, strides=2)(x)\n",
    "        x = Flatten()(x)\n",
    "        x = Dense(30)(x)\n",
    "        x = LeakyReLU()(x)\n",
    "        x = Dense(20)(x)\n",
    "        x = LeakyReLU()(x)\n",
    "        x = Dense(1, activation=\"sigmoid\")(x)\n",
    "        return x\n",
    "    \n",
    "    def LSTM(self, inputs):\n",
    "        x = LSTM(64)(inputs)\n",
    "        x = Dense(128, activation='relu')(x)\n",
    "        x = Dropout(0.3)(x)\n",
    "        x = Dense(1, activation='sigmoid')(x)\n",
    "        return x\n",
    "    \n",
    "    def MLP(self, inputs):\n",
    "        x = Dense(5)(inputs)\n",
    "        x = Dense(64, activation='relu')(x)\n",
    "        x = Dense(128, activation='relu')(x)\n",
    "        x = Dense(128, activation='relu')(x)\n",
    "        x = Dense(128, activation='relu')(x)\n",
    "        x = Dropout(0.2)(x)\n",
    "        x = Dense(64, activation='relu')(x)\n",
    "        x = Flatten()(x)\n",
    "        x = Dense(1, activation=\"sigmoid\")(x)\n",
    "        return x\n",
    "\n",
    "    def assemble(self, input_shape):\n",
    "        inputs = Input(shape=input_shape)\n",
    "        cnn = self.CNN(inputs)\n",
    "        lstm = self.LSTM(inputs)\n",
    "        mlp = self.MLP(inputs)\n",
    "        x = Concatenate(axis=1)([cnn, lstm, mlp])\n",
    "        \n",
    "        task1 = Dense(1, activation=\"sigmoid\")(x)\n",
    "        task2 = Dense(1, activation=\"sigmoid\")(x)\n",
    "        task3 = Dense(1, activation=\"sigmoid\")(x)\n",
    "        task4 = Dense(1, activation=\"sigmoid\")(x)\n",
    "        task5 = Dense(1, activation=\"sigmoid\")(x)\n",
    "        task6 = Dense(1, activation=\"sigmoid\")(x)\n",
    "        task7 = Dense(1, activation=\"sigmoid\")(x)\n",
    "        task8 = Dense(1, activation=\"sigmoid\")(x)\n",
    "        \n",
    "        model = Model(inputs = inputs, outputs = [task1, task2, task3, task4, task5, task6, task7, task8])\n",
    "        return model"
   ]
  },
  {
   "cell_type": "code",
   "execution_count": 30,
   "metadata": {
    "colab": {
     "base_uri": "https://localhost:8080/"
    },
    "id": "5KYuLdWcKhXE",
    "outputId": "6a73619b-9b59-4998-f71c-36181494e8ae"
   },
   "outputs": [
    {
     "name": "stdout",
     "output_type": "stream",
     "text": [
      "Model: \"model_4\"\n",
      "__________________________________________________________________________________________________\n",
      "Layer (type)                    Output Shape         Param #     Connected to                     \n",
      "==================================================================================================\n",
      "input_6 (InputLayer)            [(None, 187, 1)]     0                                            \n",
      "__________________________________________________________________________________________________\n",
      "conv1d_15 (Conv1D)              (None, 185, 5)       20          input_6[0][0]                    \n",
      "__________________________________________________________________________________________________\n",
      "leaky_re_lu_25 (LeakyReLU)      (None, 185, 5)       0           conv1d_15[0][0]                  \n",
      "__________________________________________________________________________________________________\n",
      "max_pooling1d_15 (MaxPooling1D) (None, 92, 5)        0           leaky_re_lu_25[0][0]             \n",
      "__________________________________________________________________________________________________\n",
      "conv1d_16 (Conv1D)              (None, 89, 10)       210         max_pooling1d_15[0][0]           \n",
      "__________________________________________________________________________________________________\n",
      "leaky_re_lu_26 (LeakyReLU)      (None, 89, 10)       0           conv1d_16[0][0]                  \n",
      "__________________________________________________________________________________________________\n",
      "max_pooling1d_16 (MaxPooling1D) (None, 44, 10)       0           leaky_re_lu_26[0][0]             \n",
      "__________________________________________________________________________________________________\n",
      "conv1d_17 (Conv1D)              (None, 41, 20)       820         max_pooling1d_16[0][0]           \n",
      "__________________________________________________________________________________________________\n",
      "dense_99 (Dense)                (None, 187, 5)       10          input_6[0][0]                    \n",
      "__________________________________________________________________________________________________\n",
      "leaky_re_lu_27 (LeakyReLU)      (None, 41, 20)       0           conv1d_17[0][0]                  \n",
      "__________________________________________________________________________________________________\n",
      "dense_100 (Dense)               (None, 187, 64)      384         dense_99[0][0]                   \n",
      "__________________________________________________________________________________________________\n",
      "max_pooling1d_17 (MaxPooling1D) (None, 20, 20)       0           leaky_re_lu_27[0][0]             \n",
      "__________________________________________________________________________________________________\n",
      "dense_101 (Dense)               (None, 187, 128)     8320        dense_100[0][0]                  \n",
      "__________________________________________________________________________________________________\n",
      "flatten_9 (Flatten)             (None, 400)          0           max_pooling1d_17[0][0]           \n",
      "__________________________________________________________________________________________________\n",
      "dense_102 (Dense)               (None, 187, 128)     16512       dense_101[0][0]                  \n",
      "__________________________________________________________________________________________________\n",
      "dense_94 (Dense)                (None, 30)           12030       flatten_9[0][0]                  \n",
      "__________________________________________________________________________________________________\n",
      "dense_103 (Dense)               (None, 187, 128)     16512       dense_102[0][0]                  \n",
      "__________________________________________________________________________________________________\n",
      "leaky_re_lu_28 (LeakyReLU)      (None, 30)           0           dense_94[0][0]                   \n",
      "__________________________________________________________________________________________________\n",
      "lstm_5 (LSTM)                   (None, 64)           16896       input_6[0][0]                    \n",
      "__________________________________________________________________________________________________\n",
      "dropout_11 (Dropout)            (None, 187, 128)     0           dense_103[0][0]                  \n",
      "__________________________________________________________________________________________________\n",
      "dense_95 (Dense)                (None, 20)           620         leaky_re_lu_28[0][0]             \n",
      "__________________________________________________________________________________________________\n",
      "dense_97 (Dense)                (None, 128)          8320        lstm_5[0][0]                     \n",
      "__________________________________________________________________________________________________\n",
      "dense_104 (Dense)               (None, 187, 64)      8256        dropout_11[0][0]                 \n",
      "__________________________________________________________________________________________________\n",
      "leaky_re_lu_29 (LeakyReLU)      (None, 20)           0           dense_95[0][0]                   \n",
      "__________________________________________________________________________________________________\n",
      "dropout_10 (Dropout)            (None, 128)          0           dense_97[0][0]                   \n",
      "__________________________________________________________________________________________________\n",
      "flatten_10 (Flatten)            (None, 11968)        0           dense_104[0][0]                  \n",
      "__________________________________________________________________________________________________\n",
      "dense_96 (Dense)                (None, 8)            168         leaky_re_lu_29[0][0]             \n",
      "__________________________________________________________________________________________________\n",
      "dense_98 (Dense)                (None, 8)            1032        dropout_10[0][0]                 \n",
      "__________________________________________________________________________________________________\n",
      "dense_105 (Dense)               (None, 8)            95752       flatten_10[0][0]                 \n",
      "__________________________________________________________________________________________________\n",
      "concatenate_5 (Concatenate)     (None, 24)           0           dense_96[0][0]                   \n",
      "                                                                 dense_98[0][0]                   \n",
      "                                                                 dense_105[0][0]                  \n",
      "__________________________________________________________________________________________________\n",
      "dense_106 (Dense)               (None, 1)            25          concatenate_5[0][0]              \n",
      "__________________________________________________________________________________________________\n",
      "dense_107 (Dense)               (None, 1)            25          concatenate_5[0][0]              \n",
      "__________________________________________________________________________________________________\n",
      "dense_108 (Dense)               (None, 1)            25          concatenate_5[0][0]              \n",
      "__________________________________________________________________________________________________\n",
      "dense_109 (Dense)               (None, 1)            25          concatenate_5[0][0]              \n",
      "__________________________________________________________________________________________________\n",
      "dense_110 (Dense)               (None, 1)            25          concatenate_5[0][0]              \n",
      "__________________________________________________________________________________________________\n",
      "dense_111 (Dense)               (None, 1)            25          concatenate_5[0][0]              \n",
      "__________________________________________________________________________________________________\n",
      "dense_112 (Dense)               (None, 1)            25          concatenate_5[0][0]              \n",
      "__________________________________________________________________________________________________\n",
      "dense_113 (Dense)               (None, 1)            25          concatenate_5[0][0]              \n",
      "==================================================================================================\n",
      "Total params: 186,062\n",
      "Trainable params: 186,062\n",
      "Non-trainable params: 0\n",
      "__________________________________________________________________________________________________\n"
     ]
    }
   ],
   "source": [
    "model = SelfSupervisedModel().assemble(x_train.shape[1:])\n",
    "model.summary()"
   ]
  },
  {
   "cell_type": "code",
   "execution_count": 31,
   "metadata": {
    "id": "Kq-eg-vvQFvL"
   },
   "outputs": [],
   "source": [
    "opt = keras.optimizers.SGD(lr=0.003, momentum=0.7)\n",
    "\n",
    "model.compile(loss='binary_crossentropy',\n",
    "              optimizer=opt,\n",
    "              metrics=['accuracy'])"
   ]
  },
  {
   "cell_type": "code",
   "execution_count": 32,
   "metadata": {
    "id": "47Utq451Wng1"
   },
   "outputs": [
    {
     "name": "stdout",
     "output_type": "stream",
     "text": [
      "5473/5473 [==============================] - 1166s 212ms/step - loss: 3.2093 - dense_106_loss: 0.4037 - dense_107_loss: 0.4151 - dense_108_loss: 0.4068 - dense_109_loss: 0.3856 - dense_110_loss: 0.3981 - dense_111_loss: 0.4016 - dense_112_loss: 0.4045 - dense_113_loss: 0.3939 - dense_106_accuracy: 0.8750 - dense_107_accuracy: 0.8749 - dense_108_accuracy: 0.8513 - dense_109_accuracy: 0.8753 - dense_110_accuracy: 0.8749 - dense_111_accuracy: 0.8746 - dense_112_accuracy: 0.8647 - dense_113_accuracy: 0.8750 - val_loss: 2.4026 - val_dense_106_loss: 0.3314 - val_dense_107_loss: 0.3396 - val_dense_108_loss: 0.3235 - val_dense_109_loss: 0.2599 - val_dense_110_loss: 0.2877 - val_dense_111_loss: 0.2134 - val_dense_112_loss: 0.3164 - val_dense_113_loss: 0.3308 - val_dense_106_accuracy: 0.8750 - val_dense_107_accuracy: 0.8750 - val_dense_108_accuracy: 0.8750 - val_dense_109_accuracy: 0.8750 - val_dense_110_accuracy: 0.8750 - val_dense_111_accuracy: 0.8750 - val_dense_112_accuracy: 0.8750 - val_dense_113_accuracy: 0.8750\n"
     ]
    }
   ],
   "source": [
    "history = model.fit(x_train, [y_train_cat[:,0],y_train_cat[:,1],y_train_cat[:,2],y_train_cat[:,3],y_train_cat[:,4],y_train_cat[:,5],y_train_cat[:,6],y_train_cat[:,7]],\n",
    "               batch_size=128,\n",
    "               epochs=1,\n",
    "               validation_data=(x_test, [y_test_cat[:,0],y_test_cat[:,1],y_test_cat[:,2],y_test_cat[:,3],y_test_cat[:,4],y_test_cat[:,5],y_test_cat[:,6],y_test_cat[:,7]]),\n",
    "               shuffle=True)"
   ]
  },
  {
   "cell_type": "code",
   "execution_count": 34,
   "metadata": {},
   "outputs": [
    {
     "name": "stderr",
     "output_type": "stream",
     "text": [
      "WARNING:absl:Found untraced functions such as lstm_cell_5_layer_call_and_return_conditional_losses, lstm_cell_5_layer_call_fn, lstm_cell_5_layer_call_fn, lstm_cell_5_layer_call_and_return_conditional_losses, lstm_cell_5_layer_call_and_return_conditional_losses while saving (showing 5 of 5). These functions will not be directly callable after loading.\n",
      "WARNING:absl:Found untraced functions such as lstm_cell_5_layer_call_and_return_conditional_losses, lstm_cell_5_layer_call_fn, lstm_cell_5_layer_call_fn, lstm_cell_5_layer_call_and_return_conditional_losses, lstm_cell_5_layer_call_and_return_conditional_losses while saving (showing 5 of 5). These functions will not be directly callable after loading.\n"
     ]
    },
    {
     "name": "stdout",
     "output_type": "stream",
     "text": [
      "INFO:tensorflow:Assets written to: self_model5\\assets\n"
     ]
    },
    {
     "name": "stderr",
     "output_type": "stream",
     "text": [
      "INFO:tensorflow:Assets written to: self_model5\\assets\n"
     ]
    }
   ],
   "source": [
    "model.save(\"self_model\")"
   ]
  }
 ],
 "metadata": {
  "accelerator": "GPU",
  "colab": {
   "collapsed_sections": [],
   "name": "self-supervised.ipynb",
   "provenance": []
  },
  "kernelspec": {
   "display_name": "Python 3",
   "language": "python",
   "name": "python3"
  },
  "language_info": {
   "codemirror_mode": {
    "name": "ipython",
    "version": 3
   },
   "file_extension": ".py",
   "mimetype": "text/x-python",
   "name": "python",
   "nbconvert_exporter": "python",
   "pygments_lexer": "ipython3",
   "version": "3.8.9"
  }
 },
 "nbformat": 4,
 "nbformat_minor": 1
}
