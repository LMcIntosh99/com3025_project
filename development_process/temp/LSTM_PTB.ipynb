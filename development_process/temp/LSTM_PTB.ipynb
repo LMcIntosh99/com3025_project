{
 "cells": [
  {
   "cell_type": "code",
   "execution_count": 24,
   "metadata": {},
   "outputs": [],
   "source": [
    "import pickle\n",
    "import tensorflow as tf\n",
    "import matplotlib.pyplot as plt"
   ]
  },
  {
   "cell_type": "code",
   "execution_count": 25,
   "metadata": {},
   "outputs": [],
   "source": [
    "TRAIN_SET = './ptb_train_set.pickle'\n",
    "TEST_SET = './ptb_test_set.pickle'\n",
    "\n",
    "with open(TEST_SET, 'rb') as file:\n",
    "    test_set = pickle.load(file)\n",
    "    x_test = test_set['x']\n",
    "    y_test = test_set['y']\n",
    "\n",
    "with open(TRAIN_SET, 'rb') as file:\n",
    "    train_set = pickle.load(file)\n",
    "    x_train = train_set['x']\n",
    "    y_train = train_set['y']\n",
    "    \n",
    "x_train = tf.expand_dims(x_train, axis=2)\n",
    "x_test = tf.expand_dims(x_test, axis=2)"
   ]
  },
  {
   "cell_type": "code",
   "execution_count": 26,
   "metadata": {
    "colab": {
     "base_uri": "https://localhost:8080/"
    },
    "id": "0KKQIIIQ8piP",
    "outputId": "6176bd29-e887-4895-fded-b02a575ef096"
   },
   "outputs": [
    {
     "name": "stdout",
     "output_type": "stream",
     "text": [
      "(13097, 187, 1)\n",
      "(13097,)\n"
     ]
    }
   ],
   "source": [
    "print(x_train.shape)\n",
    "print(y_train.shape)"
   ]
  },
  {
   "cell_type": "code",
   "execution_count": 27,
   "metadata": {
    "colab": {
     "base_uri": "https://localhost:8080/"
    },
    "id": "51TT8sowwkWu",
    "outputId": "aa272c26-706c-49ce-bcbd-32341580bac5"
   },
   "outputs": [
    {
     "name": "stdout",
     "output_type": "stream",
     "text": [
      "(1455, 187, 1)\n",
      "(1455,)\n"
     ]
    }
   ],
   "source": [
    "print(x_test.shape)\n",
    "print(y_test.shape)"
   ]
  },
  {
   "cell_type": "code",
   "execution_count": 28,
   "metadata": {
    "colab": {
     "base_uri": "https://localhost:8080/"
    },
    "id": "r365L1kxv3FW",
    "outputId": "7a137976-ada1-47cf-c1c3-492d2463f99d"
   },
   "outputs": [
    {
     "name": "stdout",
     "output_type": "stream",
     "text": [
      "Model: \"sequential_4\"\n",
      "_________________________________________________________________\n",
      "Layer (type)                 Output Shape              Param #   \n",
      "=================================================================\n",
      "lstm_4 (LSTM)                (None, 64)                16896     \n",
      "_________________________________________________________________\n",
      "dense_8 (Dense)              (None, 128)               8320      \n",
      "_________________________________________________________________\n",
      "dropout_4 (Dropout)          (None, 128)               0         \n",
      "_________________________________________________________________\n",
      "dense_9 (Dense)              (None, 1)                 129       \n",
      "=================================================================\n",
      "Total params: 25,345\n",
      "Trainable params: 25,345\n",
      "Non-trainable params: 0\n",
      "_________________________________________________________________\n"
     ]
    }
   ],
   "source": [
    "from tensorflow.keras.models import Sequential\n",
    "from tensorflow.keras.layers import LSTM, Dense, Dropout\n",
    "from tensorflow.keras import optimizers\n",
    "\n",
    "batch_size = 64\n",
    "epochs = 20\n",
    "\n",
    "model = Sequential()\n",
    "model.add(LSTM(64, input_shape=(187, 1)))\n",
    "model.add(Dense(128, activation='relu'))\n",
    "model.add(Dropout(0.3))\n",
    "model.add(Dense(1, activation='sigmoid'))\n",
    "adam = optimizers.Adam(lr=0.001, beta_1=0.9, beta_2=0.999, epsilon=1e-08, decay=0.0)\n",
    "\n",
    "\n",
    "model.compile(loss='binary_crossentropy', optimizer=adam, metrics=['accuracy'])\n",
    "model.summary()"
   ]
  },
  {
   "cell_type": "code",
   "execution_count": 30,
   "metadata": {},
   "outputs": [
    {
     "name": "stdout",
     "output_type": "stream",
     "text": [
      "Epoch 1/20\n",
      "205/205 [==============================] - 15s 75ms/step - loss: 0.5824 - accuracy: 0.7247 - val_loss: 0.5606 - val_accuracy: 0.6969\n",
      "Epoch 2/20\n",
      "205/205 [==============================] - 15s 72ms/step - loss: 0.5332 - accuracy: 0.7247 - val_loss: 0.5226 - val_accuracy: 0.6969\n",
      "Epoch 3/20\n",
      "205/205 [==============================] - 15s 72ms/step - loss: 0.5096 - accuracy: 0.7254 - val_loss: 0.5066 - val_accuracy: 0.7265\n",
      "Epoch 4/20\n",
      "205/205 [==============================] - 14s 70ms/step - loss: 0.5237 - accuracy: 0.7263 - val_loss: 0.5399 - val_accuracy: 0.6969\n",
      "Epoch 5/20\n",
      "205/205 [==============================] - 14s 70ms/step - loss: 0.5208 - accuracy: 0.7272 - val_loss: 0.5044 - val_accuracy: 0.7265\n",
      "Epoch 6/20\n",
      "205/205 [==============================] - 15s 72ms/step - loss: 0.5003 - accuracy: 0.7290 - val_loss: 0.5074 - val_accuracy: 0.7320\n",
      "Epoch 7/20\n",
      "205/205 [==============================] - 15s 72ms/step - loss: 0.4936 - accuracy: 0.7379 - val_loss: 0.4989 - val_accuracy: 0.7292\n",
      "Epoch 8/20\n",
      "205/205 [==============================] - 15s 71ms/step - loss: 0.4962 - accuracy: 0.7340 - val_loss: 0.5139 - val_accuracy: 0.7333\n",
      "Epoch 9/20\n",
      "205/205 [==============================] - 14s 71ms/step - loss: 0.4858 - accuracy: 0.7360 - val_loss: 0.5021 - val_accuracy: 0.7216\n",
      "Epoch 10/20\n",
      "205/205 [==============================] - 14s 70ms/step - loss: 0.4821 - accuracy: 0.7398 - val_loss: 0.4814 - val_accuracy: 0.7340\n",
      "Epoch 11/20\n",
      "205/205 [==============================] - 15s 72ms/step - loss: 0.4893 - accuracy: 0.7443 - val_loss: 0.6022 - val_accuracy: 0.6976\n",
      "Epoch 12/20\n",
      "205/205 [==============================] - 14s 71ms/step - loss: 0.5488 - accuracy: 0.7244 - val_loss: 0.5329 - val_accuracy: 0.6976\n",
      "Epoch 13/20\n",
      "205/205 [==============================] - 15s 71ms/step - loss: 0.5063 - accuracy: 0.7307 - val_loss: 0.5115 - val_accuracy: 0.7196\n",
      "Epoch 14/20\n",
      "205/205 [==============================] - 14s 71ms/step - loss: 0.4972 - accuracy: 0.7328 - val_loss: 0.4949 - val_accuracy: 0.7381\n",
      "Epoch 15/20\n",
      "205/205 [==============================] - 16s 78ms/step - loss: 0.4988 - accuracy: 0.7406 - val_loss: 0.5189 - val_accuracy: 0.7058\n",
      "Epoch 16/20\n",
      "205/205 [==============================] - 16s 80ms/step - loss: 0.4861 - accuracy: 0.7410 - val_loss: 0.5002 - val_accuracy: 0.7553\n",
      "Epoch 17/20\n",
      "205/205 [==============================] - 17s 82ms/step - loss: 0.4764 - accuracy: 0.7465 - val_loss: 0.4961 - val_accuracy: 0.7457\n",
      "Epoch 18/20\n",
      "205/205 [==============================] - 16s 80ms/step - loss: 0.4829 - accuracy: 0.7508 - val_loss: 0.4810 - val_accuracy: 0.7485\n",
      "Epoch 19/20\n",
      "205/205 [==============================] - 16s 78ms/step - loss: 0.4740 - accuracy: 0.7537 - val_loss: 0.4743 - val_accuracy: 0.7505\n",
      "Epoch 20/20\n",
      "205/205 [==============================] - 16s 79ms/step - loss: 0.4720 - accuracy: 0.7560 - val_loss: 0.4793 - val_accuracy: 0.7526\n"
     ]
    }
   ],
   "source": [
    "history = model.fit(x_train, y_train,\n",
    "              batch_size=batch_size,\n",
    "              epochs=epochs,\n",
    "              validation_data=(x_test, y_test))"
   ]
  },
  {
   "cell_type": "code",
   "execution_count": null,
   "metadata": {},
   "outputs": [],
   "source": [
    "fig1, ax_acc = plt.subplots()\n",
    "plt.plot(history.history['accuracy'])\n",
    "plt.plot(history.history['val_accuracy'])\n",
    "plt.xlabel('Epoch')\n",
    "plt.ylabel('Accuracy')\n",
    "plt.title('Model Accuracy')\n",
    "plt.legend(['Training', 'Validation'], loc='lower right')\n",
    "plt.show()\n",
    "\n",
    "fig2, ax_loss = plt.subplots()\n",
    "plt.xlabel('Epoch')\n",
    "plt.ylabel('Loss')\n",
    "plt.title('Model Loss')\n",
    "plt.plot(history.history['loss'])\n",
    "plt.plot(history.history['val_loss'])\n",
    "plt.legend(['Training', 'Validation'], loc='upper right')\n",
    "\n",
    "\n",
    "plt.show()\n",
    "    \n"
   ]
  },
  {
   "cell_type": "code",
   "execution_count": null,
   "metadata": {},
   "outputs": [],
   "source": [
    "model.save(\"LSTM_PTB\")"
   ]
  },
  {
   "cell_type": "code",
   "execution_count": null,
   "metadata": {},
   "outputs": [],
   "source": []
  }
 ],
 "metadata": {
  "colab": {
   "collapsed_sections": [],
   "name": "AI_PTB_CNN.ipynb",
   "provenance": []
  },
  "kernelspec": {
   "display_name": "Python 3",
   "language": "python",
   "name": "python3"
  },
  "language_info": {
   "codemirror_mode": {
    "name": "ipython",
    "version": 3
   },
   "file_extension": ".py",
   "mimetype": "text/x-python",
   "name": "python",
   "nbconvert_exporter": "python",
   "pygments_lexer": "ipython3",
   "version": "3.8.10"
  }
 },
 "nbformat": 4,
 "nbformat_minor": 1
}
