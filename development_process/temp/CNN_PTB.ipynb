{
 "cells": [
  {
   "cell_type": "code",
   "execution_count": 1,
   "metadata": {},
   "outputs": [],
   "source": [
    "import pickle\n",
    "import tensorflow as tf\n",
    "import matplotlib.pyplot as plt\n",
    "from tensorflow.keras.models import Model\n",
    "from tensorflow.keras.layers import Dropout, LSTM, Dense, Conv1D, MaxPooling1D, Flatten, LeakyReLU, Input, Concatenate"
   ]
  },
  {
   "cell_type": "code",
   "execution_count": 2,
   "metadata": {},
   "outputs": [],
   "source": [
    "TRAIN_SET = './ptb_train_set.pickle'\n",
    "TEST_SET = './ptb_test_set.pickle'\n",
    "\n",
    "with open(TEST_SET, 'rb') as file:\n",
    "    test_set = pickle.load(file)\n",
    "    x_test = test_set['x']\n",
    "    y_test = test_set['y']\n",
    "\n",
    "with open(TRAIN_SET, 'rb') as file:\n",
    "    train_set = pickle.load(file)\n",
    "    x_train = train_set['x']\n",
    "    y_train = train_set['y']\n",
    "    \n",
    "x_train = tf.expand_dims(x_train, axis=2)\n",
    "x_test = tf.expand_dims(x_test, axis=2)"
   ]
  },
  {
   "cell_type": "code",
   "execution_count": 3,
   "metadata": {
    "colab": {
     "base_uri": "https://localhost:8080/"
    },
    "id": "0KKQIIIQ8piP",
    "outputId": "6176bd29-e887-4895-fded-b02a575ef096"
   },
   "outputs": [
    {
     "name": "stdout",
     "output_type": "stream",
     "text": [
      "(13097, 187, 1)\n",
      "(13097,)\n"
     ]
    }
   ],
   "source": [
    "print(x_train.shape)\n",
    "print(y_train.shape)"
   ]
  },
  {
   "cell_type": "code",
   "execution_count": 4,
   "metadata": {
    "colab": {
     "base_uri": "https://localhost:8080/"
    },
    "id": "51TT8sowwkWu",
    "outputId": "aa272c26-706c-49ce-bcbd-32341580bac5"
   },
   "outputs": [
    {
     "name": "stdout",
     "output_type": "stream",
     "text": [
      "(1455, 187, 1)\n",
      "(1455,)\n"
     ]
    }
   ],
   "source": [
    "print(x_test.shape)\n",
    "print(y_test.shape)"
   ]
  },
  {
   "cell_type": "code",
   "execution_count": 5,
   "metadata": {
    "colab": {
     "base_uri": "https://localhost:8080/"
    },
    "id": "r365L1kxv3FW",
    "outputId": "7a137976-ada1-47cf-c1c3-492d2463f99d"
   },
   "outputs": [
    {
     "name": "stdout",
     "output_type": "stream",
     "text": [
      "Model: \"sequential\"\n",
      "_________________________________________________________________\n",
      "Layer (type)                 Output Shape              Param #   \n",
      "=================================================================\n",
      "conv1d (Conv1D)              (None, 185, 5)            20        \n",
      "_________________________________________________________________\n",
      "leaky_re_lu (LeakyReLU)      (None, 185, 5)            0         \n",
      "_________________________________________________________________\n",
      "max_pooling1d (MaxPooling1D) (None, 92, 5)             0         \n",
      "_________________________________________________________________\n",
      "conv1d_1 (Conv1D)            (None, 89, 10)            210       \n",
      "_________________________________________________________________\n",
      "leaky_re_lu_1 (LeakyReLU)    (None, 89, 10)            0         \n",
      "_________________________________________________________________\n",
      "max_pooling1d_1 (MaxPooling1 (None, 44, 10)            0         \n",
      "_________________________________________________________________\n",
      "conv1d_2 (Conv1D)            (None, 41, 20)            820       \n",
      "_________________________________________________________________\n",
      "leaky_re_lu_2 (LeakyReLU)    (None, 41, 20)            0         \n",
      "_________________________________________________________________\n",
      "max_pooling1d_2 (MaxPooling1 (None, 20, 20)            0         \n",
      "_________________________________________________________________\n",
      "flatten (Flatten)            (None, 400)               0         \n",
      "_________________________________________________________________\n",
      "dense (Dense)                (None, 30)                12030     \n",
      "_________________________________________________________________\n",
      "leaky_re_lu_3 (LeakyReLU)    (None, 30)                0         \n",
      "_________________________________________________________________\n",
      "dense_1 (Dense)              (None, 20)                620       \n",
      "_________________________________________________________________\n",
      "leaky_re_lu_4 (LeakyReLU)    (None, 20)                0         \n",
      "_________________________________________________________________\n",
      "dense_2 (Dense)              (None, 1)                 21        \n",
      "=================================================================\n",
      "Total params: 13,721\n",
      "Trainable params: 13,721\n",
      "Non-trainable params: 0\n",
      "_________________________________________________________________\n"
     ]
    }
   ],
   "source": [
    "from tensorflow.keras.models import Sequential\n",
    "from tensorflow.keras.layers import Dense, Conv1D, MaxPooling1D, Flatten, LeakyReLU\n",
    "\n",
    "model1 = Sequential()\n",
    "model1.add(Conv1D(5, kernel_size=3, strides=1, input_shape=x_train.shape[1:]))\n",
    "model1.add(LeakyReLU())\n",
    "model1.add(MaxPooling1D(pool_size=2, strides=2))\n",
    "model1.add(Conv1D(10, kernel_size=4, strides=1))\n",
    "model1.add(LeakyReLU())\n",
    "model1.add(MaxPooling1D(pool_size=2, strides=2))\n",
    "model1.add(Conv1D(20, kernel_size=4, strides=1))\n",
    "model1.add(LeakyReLU())\n",
    "model1.add(MaxPooling1D(pool_size=2, strides=2))\n",
    "model1.add(Flatten())\n",
    "model1.add(Dense(30))\n",
    "model1.add(LeakyReLU())\n",
    "model1.add(Dense(20))\n",
    "model1.add(LeakyReLU())\n",
    "model1.add(Dense(1, activation=\"sigmoid\"))\n",
    "    \n",
    "model1.summary()"
   ]
  },
  {
   "cell_type": "code",
   "execution_count": 6,
   "metadata": {},
   "outputs": [
    {
     "name": "stdout",
     "output_type": "stream",
     "text": [
      "Model: \"sequential_1\"\n",
      "_________________________________________________________________\n",
      "Layer (type)                 Output Shape              Param #   \n",
      "=================================================================\n",
      "conv1d_3 (Conv1D)            (None, 185, 5)            20        \n",
      "_________________________________________________________________\n",
      "leaky_re_lu_5 (LeakyReLU)    (None, 185, 5)            0         \n",
      "_________________________________________________________________\n",
      "max_pooling1d_3 (MaxPooling1 (None, 92, 5)             0         \n",
      "_________________________________________________________________\n",
      "conv1d_4 (Conv1D)            (None, 89, 10)            210       \n",
      "_________________________________________________________________\n",
      "leaky_re_lu_6 (LeakyReLU)    (None, 89, 10)            0         \n",
      "_________________________________________________________________\n",
      "max_pooling1d_4 (MaxPooling1 (None, 44, 10)            0         \n",
      "_________________________________________________________________\n",
      "conv1d_5 (Conv1D)            (None, 41, 20)            820       \n",
      "_________________________________________________________________\n",
      "leaky_re_lu_7 (LeakyReLU)    (None, 41, 20)            0         \n",
      "_________________________________________________________________\n",
      "max_pooling1d_5 (MaxPooling1 (None, 20, 20)            0         \n",
      "_________________________________________________________________\n",
      "flatten_1 (Flatten)          (None, 400)               0         \n",
      "_________________________________________________________________\n",
      "dense_3 (Dense)              (None, 30)                12030     \n",
      "_________________________________________________________________\n",
      "leaky_re_lu_8 (LeakyReLU)    (None, 30)                0         \n",
      "_________________________________________________________________\n",
      "dense_4 (Dense)              (None, 20)                620       \n",
      "_________________________________________________________________\n",
      "leaky_re_lu_9 (LeakyReLU)    (None, 20)                0         \n",
      "_________________________________________________________________\n",
      "dense_5 (Dense)              (None, 1)                 21        \n",
      "=================================================================\n",
      "Total params: 13,721\n",
      "Trainable params: 13,721\n",
      "Non-trainable params: 0\n",
      "_________________________________________________________________\n"
     ]
    }
   ],
   "source": [
    "from tensorflow.keras.models import Sequential\n",
    "from tensorflow.keras.layers import Dense, Conv1D, MaxPooling1D, Flatten, LeakyReLU\n",
    "\n",
    "model2 = Sequential()\n",
    "model2.add(Conv1D(5, kernel_size=3, strides=1, input_shape=x_train.shape[1:]))\n",
    "model2.add(LeakyReLU())\n",
    "model2.add(MaxPooling1D(pool_size=2, strides=2))\n",
    "model2.add(Conv1D(10, kernel_size=4, strides=1))\n",
    "model2.add(LeakyReLU())\n",
    "model2.add(MaxPooling1D(pool_size=2, strides=2))\n",
    "model2.add(Conv1D(20, kernel_size=4, strides=1))\n",
    "model2.add(LeakyReLU())\n",
    "model2.add(MaxPooling1D(pool_size=2, strides=2))\n",
    "model2.add(Flatten())\n",
    "model2.add(Dense(30))\n",
    "model2.add(LeakyReLU())\n",
    "model2.add(Dense(20))\n",
    "model2.add(LeakyReLU())\n",
    "model2.add(Dense(1, activation=\"sigmoid\"))\n",
    "    \n",
    "model2.summary()"
   ]
  },
  {
   "cell_type": "code",
   "execution_count": 41,
   "metadata": {
    "id": "Kq-eg-vvQFvL"
   },
   "outputs": [],
   "source": [
    "import tensorflow.keras as keras\n",
    "opt = keras.optimizers.SGD(lr=0.003, momentum=0.7)\n",
    "adam = keras.optimizers.Adam(lr=0.001, beta_1=0.9, beta_2=0.999, epsilon=1e-08, decay=0.0)\n",
    "model1.compile(loss='categorical_crossentropy',\n",
    "              optimizer=adam,\n",
    "              metrics=['accuracy'])"
   ]
  },
  {
   "cell_type": "code",
   "execution_count": 42,
   "metadata": {},
   "outputs": [
    {
     "name": "stdout",
     "output_type": "stream",
     "text": [
      "Epoch 1/20\n",
      "103/103 [==============================] - 2s 12ms/step - loss: 0.5947 - accuracy: 0.7118 - val_loss: 0.4656 - val_accuracy: 0.7801\n",
      "Epoch 2/20\n",
      "103/103 [==============================] - 1s 10ms/step - loss: 0.4162 - accuracy: 0.8068 - val_loss: 0.3605 - val_accuracy: 0.8206\n",
      "Epoch 3/20\n",
      "103/103 [==============================] - 1s 11ms/step - loss: 0.3469 - accuracy: 0.8458 - val_loss: 0.3463 - val_accuracy: 0.8275\n",
      "Epoch 4/20\n",
      "103/103 [==============================] - 1s 10ms/step - loss: 0.2921 - accuracy: 0.8808 - val_loss: 0.2714 - val_accuracy: 0.8997\n",
      "Epoch 5/20\n",
      "103/103 [==============================] - 1s 10ms/step - loss: 0.2524 - accuracy: 0.9028 - val_loss: 0.2703 - val_accuracy: 0.8818\n",
      "Epoch 6/20\n",
      "103/103 [==============================] - 1s 10ms/step - loss: 0.2493 - accuracy: 0.9015 - val_loss: 0.2299 - val_accuracy: 0.9203\n",
      "Epoch 7/20\n",
      "103/103 [==============================] - 1s 9ms/step - loss: 0.2398 - accuracy: 0.9078 - val_loss: 0.2291 - val_accuracy: 0.9093\n",
      "Epoch 8/20\n",
      "103/103 [==============================] - 1s 9ms/step - loss: 0.2283 - accuracy: 0.9106 - val_loss: 0.2122 - val_accuracy: 0.9230\n",
      "Epoch 9/20\n",
      "103/103 [==============================] - 1s 9ms/step - loss: 0.2121 - accuracy: 0.9208 - val_loss: 0.2589 - val_accuracy: 0.9031\n",
      "Epoch 10/20\n",
      "103/103 [==============================] - 1s 9ms/step - loss: 0.2134 - accuracy: 0.9146 - val_loss: 0.2006 - val_accuracy: 0.9347\n",
      "Epoch 11/20\n",
      "103/103 [==============================] - 1s 9ms/step - loss: 0.1946 - accuracy: 0.9303 - val_loss: 0.1901 - val_accuracy: 0.9361\n",
      "Epoch 12/20\n",
      "103/103 [==============================] - 1s 9ms/step - loss: 0.1795 - accuracy: 0.9324 - val_loss: 0.1856 - val_accuracy: 0.9388\n",
      "Epoch 13/20\n",
      "103/103 [==============================] - 1s 9ms/step - loss: 0.1662 - accuracy: 0.9373 - val_loss: 0.1811 - val_accuracy: 0.9313\n",
      "Epoch 14/20\n",
      "103/103 [==============================] - 1s 11ms/step - loss: 0.1626 - accuracy: 0.9365 - val_loss: 0.1673 - val_accuracy: 0.9436\n",
      "Epoch 15/20\n",
      "103/103 [==============================] - 1s 10ms/step - loss: 0.1454 - accuracy: 0.9461 - val_loss: 0.1629 - val_accuracy: 0.9395\n",
      "Epoch 16/20\n",
      "103/103 [==============================] - 1s 9ms/step - loss: 0.1524 - accuracy: 0.9415 - val_loss: 0.1493 - val_accuracy: 0.9491\n",
      "Epoch 17/20\n",
      "103/103 [==============================] - 1s 10ms/step - loss: 0.1297 - accuracy: 0.9537 - val_loss: 0.1426 - val_accuracy: 0.9485\n",
      "Epoch 18/20\n",
      "103/103 [==============================] - 1s 10ms/step - loss: 0.1332 - accuracy: 0.9506 - val_loss: 0.1352 - val_accuracy: 0.9519\n",
      "Epoch 19/20\n",
      "103/103 [==============================] - 1s 10ms/step - loss: 0.1264 - accuracy: 0.9516 - val_loss: 0.1381 - val_accuracy: 0.9491\n",
      "Epoch 20/20\n",
      "103/103 [==============================] - 1s 11ms/step - loss: 0.1133 - accuracy: 0.9602 - val_loss: 0.1267 - val_accuracy: 0.9553\n"
     ]
    }
   ],
   "source": [
    "history1 = model1.fit(x_train, y_train,\n",
    "              batch_size=128,\n",
    "              epochs=20,\n",
    "              validation_data=(x_test, y_test),\n",
    "              shuffle=True)"
   ]
  },
  {
   "cell_type": "code",
   "execution_count": 7,
   "metadata": {},
   "outputs": [
    {
     "name": "stdout",
     "output_type": "stream",
     "text": [
      "Model: \"sequential_2\"\n",
      "_________________________________________________________________\n",
      "Layer (type)                 Output Shape              Param #   \n",
      "=================================================================\n",
      "dense_6 (Dense)              (None, 187, 5)            10        \n",
      "_________________________________________________________________\n",
      "dense_7 (Dense)              (None, 187, 64)           384       \n",
      "_________________________________________________________________\n",
      "dense_8 (Dense)              (None, 187, 128)          8320      \n",
      "_________________________________________________________________\n",
      "dense_9 (Dense)              (None, 187, 128)          16512     \n",
      "_________________________________________________________________\n",
      "dense_10 (Dense)             (None, 187, 128)          16512     \n",
      "_________________________________________________________________\n",
      "dropout (Dropout)            (None, 187, 128)          0         \n",
      "_________________________________________________________________\n",
      "dense_11 (Dense)             (None, 187, 64)           8256      \n",
      "_________________________________________________________________\n",
      "flatten_2 (Flatten)          (None, 11968)             0         \n",
      "_________________________________________________________________\n",
      "dense_12 (Dense)             (None, 1)                 11969     \n",
      "=================================================================\n",
      "Total params: 61,963\n",
      "Trainable params: 61,963\n",
      "Non-trainable params: 0\n",
      "_________________________________________________________________\n"
     ]
    }
   ],
   "source": [
    "MLP_model = Sequential()\n",
    "MLP_model.add(Dense(5, input_shape=x_train.shape[1:]))\n",
    "MLP_model.add(Dense(64, activation='relu'))\n",
    "MLP_model.add(Dense(128, activation='relu'))\n",
    "MLP_model.add(Dense(128, activation='relu'))\n",
    "MLP_model.add(Dense(128, activation='relu'))\n",
    "MLP_model.add(Dropout(0.2))\n",
    "MLP_model.add(Dense(64, activation='relu'))\n",
    "MLP_model.add(Flatten())\n",
    "MLP_model.add(Dense(1, activation='sigmoid'))\n",
    "MLP_model.summary()\n"
   ]
  },
  {
   "cell_type": "code",
   "execution_count": 10,
   "metadata": {},
   "outputs": [],
   "source": [
    "import tensorflow.keras as keras\n",
    "opt = keras.optimizers.Adam(lr=0.001, beta_1=0.9, beta_2=0.999, epsilon=1e-08, decay=0.0)\n",
    "MLP_model.compile(loss='binary_crossentropy', optimizer=opt, metrics=['accuracy'])\n"
   ]
  },
  {
   "cell_type": "code",
   "execution_count": 12,
   "metadata": {},
   "outputs": [
    {
     "name": "stdout",
     "output_type": "stream",
     "text": [
      "Epoch 1/20\n",
      "205/205 [==============================] - 17s 74ms/step - loss: 0.5204 - accuracy: 0.7507 - val_loss: 0.4033 - val_accuracy: 0.8172\n",
      "Epoch 2/20\n",
      "205/205 [==============================] - 15s 74ms/step - loss: 0.3755 - accuracy: 0.8224 - val_loss: 0.3627 - val_accuracy: 0.8323\n",
      "Epoch 3/20\n",
      "205/205 [==============================] - 16s 79ms/step - loss: 0.3459 - accuracy: 0.8387 - val_loss: 0.3554 - val_accuracy: 0.8302\n",
      "Epoch 4/20\n",
      "205/205 [==============================] - 16s 76ms/step - loss: 0.3308 - accuracy: 0.8520 - val_loss: 0.3105 - val_accuracy: 0.8660\n",
      "Epoch 5/20\n",
      "205/205 [==============================] - 16s 77ms/step - loss: 0.3140 - accuracy: 0.8614 - val_loss: 0.3021 - val_accuracy: 0.8701\n",
      "Epoch 6/20\n",
      "205/205 [==============================] - 16s 79ms/step - loss: 0.2893 - accuracy: 0.8793 - val_loss: 0.2830 - val_accuracy: 0.8735\n",
      "Epoch 7/20\n",
      "205/205 [==============================] - 16s 77ms/step - loss: 0.2700 - accuracy: 0.8841 - val_loss: 0.2819 - val_accuracy: 0.8852\n",
      "Epoch 8/20\n",
      "205/205 [==============================] - 14s 70ms/step - loss: 0.2708 - accuracy: 0.8798 - val_loss: 0.2838 - val_accuracy: 0.8777\n",
      "Epoch 9/20\n",
      "205/205 [==============================] - 14s 70ms/step - loss: 0.2626 - accuracy: 0.8894 - val_loss: 0.2637 - val_accuracy: 0.8914\n",
      "Epoch 10/20\n",
      "205/205 [==============================] - 15s 71ms/step - loss: 0.2457 - accuracy: 0.8995 - val_loss: 0.2661 - val_accuracy: 0.8838\n",
      "Epoch 11/20\n",
      "205/205 [==============================] - 15s 74ms/step - loss: 0.2520 - accuracy: 0.8954 - val_loss: 0.2458 - val_accuracy: 0.9003\n",
      "Epoch 12/20\n",
      "205/205 [==============================] - 15s 75ms/step - loss: 0.2531 - accuracy: 0.8964 - val_loss: 0.2317 - val_accuracy: 0.9065\n",
      "Epoch 13/20\n",
      "205/205 [==============================] - 12s 59ms/step - loss: 0.2430 - accuracy: 0.9025 - val_loss: 0.3080 - val_accuracy: 0.8715\n",
      "Epoch 14/20\n",
      "205/205 [==============================] - 12s 61ms/step - loss: 0.2481 - accuracy: 0.8982 - val_loss: 0.2395 - val_accuracy: 0.9017\n",
      "Epoch 15/20\n",
      "133/205 [==================>...........] - ETA: 4s - loss: 0.2399 - accuracy: 0.9042"
     ]
    },
    {
     "ename": "KeyboardInterrupt",
     "evalue": "",
     "output_type": "error",
     "traceback": [
      "\u001b[1;31m---------------------------------------------------------------------------\u001b[0m",
      "\u001b[1;31mKeyboardInterrupt\u001b[0m                         Traceback (most recent call last)",
      "\u001b[1;32m<ipython-input-12-bfe1511ebfb3>\u001b[0m in \u001b[0;36m<module>\u001b[1;34m\u001b[0m\n\u001b[1;32m----> 1\u001b[1;33m MLP_history = MLP_model.fit(x_train, y_train,\n\u001b[0m\u001b[0;32m      2\u001b[0m               \u001b[0mbatch_size\u001b[0m\u001b[1;33m=\u001b[0m\u001b[1;36m64\u001b[0m\u001b[1;33m,\u001b[0m\u001b[1;33m\u001b[0m\u001b[1;33m\u001b[0m\u001b[0m\n\u001b[0;32m      3\u001b[0m               \u001b[0mepochs\u001b[0m\u001b[1;33m=\u001b[0m\u001b[1;36m20\u001b[0m\u001b[1;33m,\u001b[0m\u001b[1;33m\u001b[0m\u001b[1;33m\u001b[0m\u001b[0m\n\u001b[0;32m      4\u001b[0m               \u001b[0mvalidation_data\u001b[0m\u001b[1;33m=\u001b[0m\u001b[1;33m(\u001b[0m\u001b[0mx_test\u001b[0m\u001b[1;33m,\u001b[0m \u001b[0my_test\u001b[0m\u001b[1;33m)\u001b[0m\u001b[1;33m,\u001b[0m\u001b[1;33m\u001b[0m\u001b[1;33m\u001b[0m\u001b[0m\n\u001b[0;32m      5\u001b[0m               shuffle=True)\n",
      "\u001b[1;32m~\\AppData\\Local\\Packages\\PythonSoftwareFoundation.Python.3.8_qbz5n2kfra8p0\\LocalCache\\local-packages\\Python38\\site-packages\\tensorflow\\python\\keras\\engine\\training.py\u001b[0m in \u001b[0;36mfit\u001b[1;34m(self, x, y, batch_size, epochs, verbose, callbacks, validation_split, validation_data, shuffle, class_weight, sample_weight, initial_epoch, steps_per_epoch, validation_steps, validation_batch_size, validation_freq, max_queue_size, workers, use_multiprocessing)\u001b[0m\n\u001b[0;32m   1098\u001b[0m                 _r=1):\n\u001b[0;32m   1099\u001b[0m               \u001b[0mcallbacks\u001b[0m\u001b[1;33m.\u001b[0m\u001b[0mon_train_batch_begin\u001b[0m\u001b[1;33m(\u001b[0m\u001b[0mstep\u001b[0m\u001b[1;33m)\u001b[0m\u001b[1;33m\u001b[0m\u001b[1;33m\u001b[0m\u001b[0m\n\u001b[1;32m-> 1100\u001b[1;33m               \u001b[0mtmp_logs\u001b[0m \u001b[1;33m=\u001b[0m \u001b[0mself\u001b[0m\u001b[1;33m.\u001b[0m\u001b[0mtrain_function\u001b[0m\u001b[1;33m(\u001b[0m\u001b[0miterator\u001b[0m\u001b[1;33m)\u001b[0m\u001b[1;33m\u001b[0m\u001b[1;33m\u001b[0m\u001b[0m\n\u001b[0m\u001b[0;32m   1101\u001b[0m               \u001b[1;32mif\u001b[0m \u001b[0mdata_handler\u001b[0m\u001b[1;33m.\u001b[0m\u001b[0mshould_sync\u001b[0m\u001b[1;33m:\u001b[0m\u001b[1;33m\u001b[0m\u001b[1;33m\u001b[0m\u001b[0m\n\u001b[0;32m   1102\u001b[0m                 \u001b[0mcontext\u001b[0m\u001b[1;33m.\u001b[0m\u001b[0masync_wait\u001b[0m\u001b[1;33m(\u001b[0m\u001b[1;33m)\u001b[0m\u001b[1;33m\u001b[0m\u001b[1;33m\u001b[0m\u001b[0m\n",
      "\u001b[1;32m~\\AppData\\Local\\Packages\\PythonSoftwareFoundation.Python.3.8_qbz5n2kfra8p0\\LocalCache\\local-packages\\Python38\\site-packages\\tensorflow\\python\\eager\\def_function.py\u001b[0m in \u001b[0;36m__call__\u001b[1;34m(self, *args, **kwds)\u001b[0m\n\u001b[0;32m    826\u001b[0m     \u001b[0mtracing_count\u001b[0m \u001b[1;33m=\u001b[0m \u001b[0mself\u001b[0m\u001b[1;33m.\u001b[0m\u001b[0mexperimental_get_tracing_count\u001b[0m\u001b[1;33m(\u001b[0m\u001b[1;33m)\u001b[0m\u001b[1;33m\u001b[0m\u001b[1;33m\u001b[0m\u001b[0m\n\u001b[0;32m    827\u001b[0m     \u001b[1;32mwith\u001b[0m \u001b[0mtrace\u001b[0m\u001b[1;33m.\u001b[0m\u001b[0mTrace\u001b[0m\u001b[1;33m(\u001b[0m\u001b[0mself\u001b[0m\u001b[1;33m.\u001b[0m\u001b[0m_name\u001b[0m\u001b[1;33m)\u001b[0m \u001b[1;32mas\u001b[0m \u001b[0mtm\u001b[0m\u001b[1;33m:\u001b[0m\u001b[1;33m\u001b[0m\u001b[1;33m\u001b[0m\u001b[0m\n\u001b[1;32m--> 828\u001b[1;33m       \u001b[0mresult\u001b[0m \u001b[1;33m=\u001b[0m \u001b[0mself\u001b[0m\u001b[1;33m.\u001b[0m\u001b[0m_call\u001b[0m\u001b[1;33m(\u001b[0m\u001b[1;33m*\u001b[0m\u001b[0margs\u001b[0m\u001b[1;33m,\u001b[0m \u001b[1;33m**\u001b[0m\u001b[0mkwds\u001b[0m\u001b[1;33m)\u001b[0m\u001b[1;33m\u001b[0m\u001b[1;33m\u001b[0m\u001b[0m\n\u001b[0m\u001b[0;32m    829\u001b[0m       \u001b[0mcompiler\u001b[0m \u001b[1;33m=\u001b[0m \u001b[1;34m\"xla\"\u001b[0m \u001b[1;32mif\u001b[0m \u001b[0mself\u001b[0m\u001b[1;33m.\u001b[0m\u001b[0m_experimental_compile\u001b[0m \u001b[1;32melse\u001b[0m \u001b[1;34m\"nonXla\"\u001b[0m\u001b[1;33m\u001b[0m\u001b[1;33m\u001b[0m\u001b[0m\n\u001b[0;32m    830\u001b[0m       \u001b[0mnew_tracing_count\u001b[0m \u001b[1;33m=\u001b[0m \u001b[0mself\u001b[0m\u001b[1;33m.\u001b[0m\u001b[0mexperimental_get_tracing_count\u001b[0m\u001b[1;33m(\u001b[0m\u001b[1;33m)\u001b[0m\u001b[1;33m\u001b[0m\u001b[1;33m\u001b[0m\u001b[0m\n",
      "\u001b[1;32m~\\AppData\\Local\\Packages\\PythonSoftwareFoundation.Python.3.8_qbz5n2kfra8p0\\LocalCache\\local-packages\\Python38\\site-packages\\tensorflow\\python\\eager\\def_function.py\u001b[0m in \u001b[0;36m_call\u001b[1;34m(self, *args, **kwds)\u001b[0m\n\u001b[0;32m    853\u001b[0m       \u001b[1;31m# In this case we have created variables on the first call, so we run the\u001b[0m\u001b[1;33m\u001b[0m\u001b[1;33m\u001b[0m\u001b[1;33m\u001b[0m\u001b[0m\n\u001b[0;32m    854\u001b[0m       \u001b[1;31m# defunned version which is guaranteed to never create variables.\u001b[0m\u001b[1;33m\u001b[0m\u001b[1;33m\u001b[0m\u001b[1;33m\u001b[0m\u001b[0m\n\u001b[1;32m--> 855\u001b[1;33m       \u001b[1;32mreturn\u001b[0m \u001b[0mself\u001b[0m\u001b[1;33m.\u001b[0m\u001b[0m_stateless_fn\u001b[0m\u001b[1;33m(\u001b[0m\u001b[1;33m*\u001b[0m\u001b[0margs\u001b[0m\u001b[1;33m,\u001b[0m \u001b[1;33m**\u001b[0m\u001b[0mkwds\u001b[0m\u001b[1;33m)\u001b[0m  \u001b[1;31m# pylint: disable=not-callable\u001b[0m\u001b[1;33m\u001b[0m\u001b[1;33m\u001b[0m\u001b[0m\n\u001b[0m\u001b[0;32m    856\u001b[0m     \u001b[1;32melif\u001b[0m \u001b[0mself\u001b[0m\u001b[1;33m.\u001b[0m\u001b[0m_stateful_fn\u001b[0m \u001b[1;32mis\u001b[0m \u001b[1;32mnot\u001b[0m \u001b[1;32mNone\u001b[0m\u001b[1;33m:\u001b[0m\u001b[1;33m\u001b[0m\u001b[1;33m\u001b[0m\u001b[0m\n\u001b[0;32m    857\u001b[0m       \u001b[1;31m# Release the lock early so that multiple threads can perform the call\u001b[0m\u001b[1;33m\u001b[0m\u001b[1;33m\u001b[0m\u001b[1;33m\u001b[0m\u001b[0m\n",
      "\u001b[1;32m~\\AppData\\Local\\Packages\\PythonSoftwareFoundation.Python.3.8_qbz5n2kfra8p0\\LocalCache\\local-packages\\Python38\\site-packages\\tensorflow\\python\\eager\\function.py\u001b[0m in \u001b[0;36m__call__\u001b[1;34m(self, *args, **kwargs)\u001b[0m\n\u001b[0;32m   2940\u001b[0m       (graph_function,\n\u001b[0;32m   2941\u001b[0m        filtered_flat_args) = self._maybe_define_function(args, kwargs)\n\u001b[1;32m-> 2942\u001b[1;33m     return graph_function._call_flat(\n\u001b[0m\u001b[0;32m   2943\u001b[0m         filtered_flat_args, captured_inputs=graph_function.captured_inputs)  # pylint: disable=protected-access\n\u001b[0;32m   2944\u001b[0m \u001b[1;33m\u001b[0m\u001b[0m\n",
      "\u001b[1;32m~\\AppData\\Local\\Packages\\PythonSoftwareFoundation.Python.3.8_qbz5n2kfra8p0\\LocalCache\\local-packages\\Python38\\site-packages\\tensorflow\\python\\eager\\function.py\u001b[0m in \u001b[0;36m_call_flat\u001b[1;34m(self, args, captured_inputs, cancellation_manager)\u001b[0m\n\u001b[0;32m   1916\u001b[0m         and executing_eagerly):\n\u001b[0;32m   1917\u001b[0m       \u001b[1;31m# No tape is watching; skip to running the function.\u001b[0m\u001b[1;33m\u001b[0m\u001b[1;33m\u001b[0m\u001b[1;33m\u001b[0m\u001b[0m\n\u001b[1;32m-> 1918\u001b[1;33m       return self._build_call_outputs(self._inference_function.call(\n\u001b[0m\u001b[0;32m   1919\u001b[0m           ctx, args, cancellation_manager=cancellation_manager))\n\u001b[0;32m   1920\u001b[0m     forward_backward = self._select_forward_and_backward_functions(\n",
      "\u001b[1;32m~\\AppData\\Local\\Packages\\PythonSoftwareFoundation.Python.3.8_qbz5n2kfra8p0\\LocalCache\\local-packages\\Python38\\site-packages\\tensorflow\\python\\eager\\function.py\u001b[0m in \u001b[0;36mcall\u001b[1;34m(self, ctx, args, cancellation_manager)\u001b[0m\n\u001b[0;32m    553\u001b[0m       \u001b[1;32mwith\u001b[0m \u001b[0m_InterpolateFunctionError\u001b[0m\u001b[1;33m(\u001b[0m\u001b[0mself\u001b[0m\u001b[1;33m)\u001b[0m\u001b[1;33m:\u001b[0m\u001b[1;33m\u001b[0m\u001b[1;33m\u001b[0m\u001b[0m\n\u001b[0;32m    554\u001b[0m         \u001b[1;32mif\u001b[0m \u001b[0mcancellation_manager\u001b[0m \u001b[1;32mis\u001b[0m \u001b[1;32mNone\u001b[0m\u001b[1;33m:\u001b[0m\u001b[1;33m\u001b[0m\u001b[1;33m\u001b[0m\u001b[0m\n\u001b[1;32m--> 555\u001b[1;33m           outputs = execute.execute(\n\u001b[0m\u001b[0;32m    556\u001b[0m               \u001b[0mstr\u001b[0m\u001b[1;33m(\u001b[0m\u001b[0mself\u001b[0m\u001b[1;33m.\u001b[0m\u001b[0msignature\u001b[0m\u001b[1;33m.\u001b[0m\u001b[0mname\u001b[0m\u001b[1;33m)\u001b[0m\u001b[1;33m,\u001b[0m\u001b[1;33m\u001b[0m\u001b[1;33m\u001b[0m\u001b[0m\n\u001b[0;32m    557\u001b[0m               \u001b[0mnum_outputs\u001b[0m\u001b[1;33m=\u001b[0m\u001b[0mself\u001b[0m\u001b[1;33m.\u001b[0m\u001b[0m_num_outputs\u001b[0m\u001b[1;33m,\u001b[0m\u001b[1;33m\u001b[0m\u001b[1;33m\u001b[0m\u001b[0m\n",
      "\u001b[1;32m~\\AppData\\Local\\Packages\\PythonSoftwareFoundation.Python.3.8_qbz5n2kfra8p0\\LocalCache\\local-packages\\Python38\\site-packages\\tensorflow\\python\\eager\\execute.py\u001b[0m in \u001b[0;36mquick_execute\u001b[1;34m(op_name, num_outputs, inputs, attrs, ctx, name)\u001b[0m\n\u001b[0;32m     57\u001b[0m   \u001b[1;32mtry\u001b[0m\u001b[1;33m:\u001b[0m\u001b[1;33m\u001b[0m\u001b[1;33m\u001b[0m\u001b[0m\n\u001b[0;32m     58\u001b[0m     \u001b[0mctx\u001b[0m\u001b[1;33m.\u001b[0m\u001b[0mensure_initialized\u001b[0m\u001b[1;33m(\u001b[0m\u001b[1;33m)\u001b[0m\u001b[1;33m\u001b[0m\u001b[1;33m\u001b[0m\u001b[0m\n\u001b[1;32m---> 59\u001b[1;33m     tensors = pywrap_tfe.TFE_Py_Execute(ctx._handle, device_name, op_name,\n\u001b[0m\u001b[0;32m     60\u001b[0m                                         inputs, attrs, num_outputs)\n\u001b[0;32m     61\u001b[0m   \u001b[1;32mexcept\u001b[0m \u001b[0mcore\u001b[0m\u001b[1;33m.\u001b[0m\u001b[0m_NotOkStatusException\u001b[0m \u001b[1;32mas\u001b[0m \u001b[0me\u001b[0m\u001b[1;33m:\u001b[0m\u001b[1;33m\u001b[0m\u001b[1;33m\u001b[0m\u001b[0m\n",
      "\u001b[1;31mKeyboardInterrupt\u001b[0m: "
     ]
    }
   ],
   "source": [
    "MLP_history = MLP_model.fit(x_train, y_train,\n",
    "              batch_size=64,\n",
    "              epochs=20,\n",
    "              validation_data=(x_test, y_test),\n",
    "              shuffle=True)"
   ]
  },
  {
   "cell_type": "code",
   "execution_count": null,
   "metadata": {},
   "outputs": [],
   "source": []
  },
  {
   "cell_type": "code",
   "execution_count": 44,
   "metadata": {},
   "outputs": [
    {
     "data": {
      "image/png": "[encoded data removed]",
      "text/plain": [
       "<Figure size 432x288 with 1 Axes>"
      ]
     },
     "metadata": {
      "needs_background": "light"
     },
     "output_type": "display_data"
    },
    {
     "data": {
      "image/png": "[encoded data removed]",
      "text/plain": [
       "<Figure size 432x288 with 1 Axes>"
      ]
     },
     "metadata": {
      "needs_background": "light"
     },
     "output_type": "display_data"
    }
   ],
   "source": [
    "fig1, ax_acc = plt.subplots()\n",
    "plt.plot(history1.history['accuracy'])\n",
    "plt.plot(history1.history['val_accuracy'])\n",
    "plt.xlabel('Epoch')\n",
    "plt.ylabel('Accuracy')\n",
    "plt.title('Model Accuracy')\n",
    "plt.legend(['Training', 'Validation'], loc='lower right')\n",
    "plt.show()\n",
    "\n",
    "fig2, ax_loss = plt.subplots()\n",
    "plt.xlabel('Epoch')\n",
    "plt.ylabel('Loss')\n",
    "plt.title('Model Loss')\n",
    "plt.plot(history1.history['loss'])\n",
    "plt.plot(history1.history['val_loss'])\n",
    "plt.legend(['Training', 'Validation'], loc='upper right')\n",
    "\n",
    "\n",
    "plt.show()\n",
    "    \n"
   ]
  },
  {
   "cell_type": "code",
   "execution_count": 46,
   "metadata": {},
   "outputs": [
    {
     "name": "stdout",
     "output_type": "stream",
     "text": [
      "INFO:tensorflow:Assets written to: CNN_PTB\\assets\n"
     ]
    }
   ],
   "source": [
    "model1.save(\"CNN_PTB\")"
   ]
  },
  {
   "cell_type": "code",
   "execution_count": null,
   "metadata": {},
   "outputs": [],
   "source": []
  }
 ],
 "metadata": {
  "colab": {
   "collapsed_sections": [],
   "name": "AI_PTB_CNN.ipynb",
   "provenance": []
  },
  "kernelspec": {
   "display_name": "Python 3",
   "language": "python",
   "name": "python3"
  },
  "language_info": {
   "codemirror_mode": {
    "name": "ipython",
    "version": 3
   },
   "file_extension": ".py",
   "mimetype": "text/x-python",
   "name": "python",
   "nbconvert_exporter": "python",
   "pygments_lexer": "ipython3",
   "version": "3.8.10"
  }
 },
 "nbformat": 4,
 "nbformat_minor": 1
}
